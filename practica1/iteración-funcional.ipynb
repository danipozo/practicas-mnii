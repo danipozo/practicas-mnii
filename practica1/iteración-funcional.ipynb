{
 "cells": [
  {
   "cell_type": "markdown",
   "metadata": {},
   "source": [
    "# Método de iteración funcional para sistemas de ecuaciones\n",
    "\n",
    "Entradas:\n",
    "\n",
    " - una función $g: \\mathbb{R}^N \\to \\mathbb{R}^N$,\n",
    " - $x_0 \\in \\mathbb{R}^N$.\n",
    " \n",
    "y, según la variante:\n",
    " \n",
    "  1. tolerancia entre dos iteraciones consecutivas,\n",
    "  2. solución y tolerancia,\n",
    "  3. constante de Lipstchiz y tolerancia."
   ]
  },
  {
   "cell_type": "markdown",
   "metadata": {},
   "source": [
    "Primero, definimos un generador infinito de los términos de la sucesión."
   ]
  },
  {
   "cell_type": "code",
   "execution_count": 1,
   "metadata": {},
   "outputs": [],
   "source": [
    "def functional_iteration(g, x_0):\n",
    "    x = x_0\n",
    "    while True:\n",
    "        x = g(*x)\n",
    "        yield x"
   ]
  },
  {
   "cell_type": "code",
   "execution_count": 2,
   "metadata": {},
   "outputs": [
    {
     "name": "stdout",
     "output_type": "stream",
     "text": [
      "(6, 5)\n",
      "(30, 11)\n",
      "(330, 41)\n",
      "(13530, 371)\n",
      "(5019630, 13901)\n",
      "(69777876630, 5033531)\n",
      "(351229105131280530, 69782910161)\n",
      "(24509789089304573335878465330, 351229174914190691)\n",
      "(8608552999157278550998626549630446732052243030, 24509789089655802510792656021)\n"
     ]
    }
   ],
   "source": [
    "import itertools as it\n",
    "\n",
    "g(x,y) = (x*y,x+y)\n",
    "gen = functional_iteration(g, (1,2))\n",
    "\n",
    "for i in it.islice(gen,1,10):\n",
    "    print(i)"
   ]
  },
  {
   "cell_type": "markdown",
   "metadata": {},
   "source": [
    "Para la primera variante, creamos un generador, a partir del primero, que nos dé la distancia entre dos aproximaciones consecutivas, y nos quedamos con el primer elemento del generador para el que la distancia sea menor que la tolerancia dada."
   ]
  },
  {
   "cell_type": "code",
   "execution_count": 3,
   "metadata": {},
   "outputs": [],
   "source": [
    "def adjacent_distance(method, g, x_0):\n",
    "    gen = method(g, x_0)\n",
    "    x = gen.next()\n",
    "    \n",
    "    for i in gen:\n",
    "        yield (i,abs(x-i))\n",
    "        x = i\n",
    "        "
   ]
  },
  {
   "cell_type": "code",
   "execution_count": 4,
   "metadata": {},
   "outputs": [
    {
     "name": "stdout",
     "output_type": "stream",
     "text": [
      "((30, 11), 6*sqrt(17))\n",
      "((330, 41), 30*sqrt(101))\n",
      "((13530, 371), 330*sqrt(1601))\n",
      "((5019630, 13901), 13530*sqrt(136901))\n",
      "((69777876630, 5033531), 5019630*sqrt(193210001))\n",
      "((351229105131280530, 69782910161), 69777876630*sqrt(25336424260901))\n",
      "((24509789089304573335878465330, 351229174914190691), 69777876630*sqrt(123379682716031369741064342213329561))\n",
      "((8608552999157278550998626549630446732052243030, 24509789089655802510792656021), 69777876630*sqrt(15220356191571673096601625389721419779642653785332869973603759289761181))\n",
      "((210993818376468802695338859585511727362673276231266487027284989424284783630, 8608552999157278575508415639286249242844899051), 9699124851570*sqrt(473232283041107039915980536921443272533265969435656341948192334832818735256916412888952020860478229687573371265211081161241))\n"
     ]
    }
   ],
   "source": [
    "for i in it.islice(adjacent_distance(functional_iteration, g, (1,2)),1,10):\n",
    "    print(i)"
   ]
  },
  {
   "cell_type": "code",
   "execution_count": 5,
   "metadata": {},
   "outputs": [],
   "source": [
    "def first_variant(method, g, x_0, epsilon):\n",
    "    gen = it.takewhile(lambda (x,e) : e >= epsilon, adjacent_distance(method, g, x_0))\n",
    "    \n",
    "    return gen"
   ]
  },
  {
   "cell_type": "code",
   "execution_count": 6,
   "metadata": {},
   "outputs": [],
   "source": [
    "def second_variant(method, g, x_0, sol, epsilon):\n",
    "    gen = it.takewhile(lambda (x) : abs(x-sol) >= epsilon, method(g, x_0))\n",
    "    \n",
    "    return gen"
   ]
  },
  {
   "cell_type": "code",
   "execution_count": 7,
   "metadata": {},
   "outputs": [],
   "source": [
    "def print_all(gen):\n",
    "    for i in gen:\n",
    "        print(i)\n",
    "        \n",
    "def print_last(gen):\n",
    "    j = None\n",
    "    for j in gen:\n",
    "        pass\n",
    "    print(j)"
   ]
  },
  {
   "cell_type": "code",
   "execution_count": null,
   "metadata": {},
   "outputs": [],
   "source": []
  },
  {
   "cell_type": "code",
   "execution_count": 10,
   "metadata": {},
   "outputs": [
    {
     "name": "stdout",
     "output_type": "stream",
     "text": [
      "Todos las aproximaciones de la primera variante\n",
      "Aproximación: (5.75000000000000, 1.25000000000000), distancia entre términos: 1.27475487839820\n",
      "Aproximación: (5.87500000000000, 0.625000000000000), distancia entre términos: 0.637377439199098\n",
      "Aproximación: (5.93750000000000, 0.312500000000000), distancia entre términos: 0.318688719599549\n",
      "Aproximación: (5.96875000000000, 0.156250000000000), distancia entre términos: 0.159344359799775\n",
      "Aproximación: (5.98437500000000, 0.0781250000000000), distancia entre términos: 0.0796721798998873\n",
      "Aproximación: (5.99218750000000, 0.0390625000000000), distancia entre términos: 0.0398360899499436\n",
      "Aproximación: (5.99609375000000, 0.0195312500000000), distancia entre términos: 0.0199180449749718\n",
      "Aproximación: (5.99804687500000, 0.00976562500000000), distancia entre términos: 0.00995902248748591\n",
      "Aproximación: (5.99902343750000, 0.00488281250000000), distancia entre términos: 0.00497951124374295\n",
      "Aproximación: (5.99951171875000, 0.00244140625000000), distancia entre términos: 0.00248975562187148\n",
      "Aproximación: (5.99975585937500, 0.00122070312500000), distancia entre términos: 0.00124487781093574\n",
      "Aproximación: (5.99987792968750, 0.000610351562500000), distancia entre términos: 0.000622438905467869\n",
      "Aproximación: (5.99993896484375, 0.000305175781250000), distancia entre términos: 0.000311219452733935\n",
      "Aproximación: (5.99996948242188, 0.000152587890625000), distancia entre términos: 0.000155609726366967\n",
      "Aproximación: (5.99998474121094, 0.0000762939453125000), distancia entre términos: 0.0000778048631834837\n",
      "Aproximación: (5.99999237060547, 0.0000381469726562500), distancia entre términos: 0.0000389024315917418\n",
      "Aproximación: (5.99999618530273, 0.0000190734863281250), distancia entre términos: 0.0000194512157958709\n",
      "Aproximación: (5.99999809265137, 9.53674316406250e-6), distancia entre términos: 9.72560789793546e-6\n",
      "Aproximación: (5.99999904632568, 4.76837158203125e-6), distancia entre términos: 4.86280394896773e-6\n",
      "Aproximación: (5.99999952316284, 2.38418579101562e-6), distancia entre términos: 2.43140197448386e-6\n",
      "Aproximación: (5.99999976158142, 1.19209289550781e-6), distancia entre términos: 1.21570098724193e-6\n",
      "Aproximación: (5.99999988079071, 5.96046447753906e-7), distancia entre términos: 6.07850493620966e-7\n",
      "Aproximación: (5.99999994039536, 2.98023223876953e-7), distancia entre términos: 3.03925246810483e-7\n",
      "Aproximación: (5.99999997019768, 1.49011611938477e-7), distancia entre términos: 1.51962623405242e-7\n",
      "Aproximación: (5.99999998509884, 7.45058059692383e-8), distancia entre términos: 7.59813117026208e-8\n",
      "\n",
      "Última aproximación de la segunda variante\n",
      "(5.99999997019768, 1.49011611938477e-7)\n"
     ]
    }
   ],
   "source": [
    "contractive2(x,y) = (0.5*x+3, 0.5*y)\n",
    "\n",
    "print(\"Todos las aproximaciones de la primera variante\")\n",
    "gen = first_variant(functional_iteration, contractive2, (5,5), 0.00000005)\n",
    "\n",
    "fix_point, error = None, None\n",
    "for fix_point, error in gen:\n",
    "    print(\"Aproximación: {}, distancia entre términos: {}\".format(fix_point, error))\n",
    "\n",
    "print(\"\")\n",
    "print(\"Última aproximación de la segunda variante\")\n",
    "print_last(second_variant(functional_iteration, contractive2, (5,5), fix_point, 0.00000005))"
   ]
  },
  {
   "cell_type": "markdown",
   "metadata": {},
   "source": []
  }
 ],
 "metadata": {
  "kernelspec": {
   "display_name": "SageMath 8.1",
   "language": "",
   "name": "sagemath"
  },
  "language_info": {
   "codemirror_mode": {
    "name": "ipython",
    "version": 2
   },
   "file_extension": ".py",
   "mimetype": "text/x-python",
   "name": "python",
   "nbconvert_exporter": "python",
   "pygments_lexer": "ipython2",
   "version": "2.7.14"
  }
 },
 "nbformat": 4,
 "nbformat_minor": 2
}
