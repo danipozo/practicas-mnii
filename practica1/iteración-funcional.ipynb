{
 "cells": [
  {
   "cell_type": "markdown",
   "metadata": {},
   "source": [
    "# Método de iteración funcional para sistemas de ecuaciones\n",
    "\n",
    "Entradas:\n",
    "\n",
    " - una función $g: \\mathbb{R}^N \\to \\mathbb{R}^N$,\n",
    " - $x_0 \\in \\mathbb{R}^N$.\n",
    " \n",
    "y, según la variante:\n",
    " \n",
    "  1. tolerancia entre dos iteraciones consecutivas,\n",
    "  2. solución y tolerancia,\n",
    "  3. constante de Lipstchiz y tolerancia."
   ]
  },
  {
   "cell_type": "markdown",
   "metadata": {},
   "source": [
    "Primero, definimos un generador infinito de los términos de la sucesión."
   ]
  },
  {
   "cell_type": "code",
   "execution_count": 67,
   "metadata": {},
   "outputs": [],
   "source": [
    "def functional_iteration(g, x_0):\n",
    "    x = x_0\n",
    "    while True:\n",
    "        x = g(*x)\n",
    "        yield x"
   ]
  },
  {
   "cell_type": "code",
   "execution_count": 56,
   "metadata": {},
   "outputs": [
    {
     "name": "stdout",
     "output_type": "stream",
     "text": [
      "<type 'tuple'>\n",
      "(6, 5)\n",
      "(30, 11)\n",
      "(330, 41)\n",
      "(13530, 371)\n",
      "(5019630, 13901)\n",
      "(69777876630, 5033531)\n",
      "(351229105131280530, 69782910161)\n",
      "(24509789089304573335878465330, 351229174914190691)\n",
      "(8608552999157278550998626549630446732052243030, 24509789089655802510792656021)\n"
     ]
    }
   ],
   "source": [
    "import itertools as it\n",
    "\n",
    "g(x,y) = (x*y,x+y)\n",
    "gen = functional_iteration(g, (1,2))\n",
    "\n",
    "for i in it.islice(gen,1,10):\n",
    "    print(i)"
   ]
  },
  {
   "cell_type": "markdown",
   "metadata": {},
   "source": [
    "Para la primera variante, creamos un generador, a partir del primero, que nos dé la distancia entre dos aproximaciones consecutivas, y nos quedamos con el primer elemento del generador para el que la distancia sea menor que la tolerancia dada."
   ]
  },
  {
   "cell_type": "code",
   "execution_count": 57,
   "metadata": {},
   "outputs": [],
   "source": [
    "def adjacent_distance(g, x_0):\n",
    "    gen = functional_iteration(g, x_0)\n",
    "    x = gen.next()\n",
    "    \n",
    "    for i in gen:\n",
    "        yield (i,abs(x-i))\n",
    "        x = i\n",
    "        "
   ]
  },
  {
   "cell_type": "code",
   "execution_count": 58,
   "metadata": {},
   "outputs": [
    {
     "name": "stdout",
     "output_type": "stream",
     "text": [
      "<type 'tuple'>\n",
      "<type 'tuple'>\n",
      "((30, 11), 6*sqrt(17))\n",
      "((330, 41), 30*sqrt(101))\n",
      "((13530, 371), 330*sqrt(1601))\n",
      "((5019630, 13901), 13530*sqrt(136901))\n",
      "((69777876630, 5033531), 5019630*sqrt(193210001))\n",
      "((351229105131280530, 69782910161), 69777876630*sqrt(25336424260901))\n",
      "((24509789089304573335878465330, 351229174914190691), 69777876630*sqrt(123379682716031369741064342213329561))\n",
      "((8608552999157278550998626549630446732052243030, 24509789089655802510792656021), 69777876630*sqrt(15220356191571673096601625389721419779642653785332869973603759289761181))\n",
      "((210993818376468802695338859585511727362673276231266487027284989424284783630, 8608552999157278575508415639286249242844899051), 9699124851570*sqrt(473232283041107039915980536921443272533265969435656341948192334832818735256916412888952020860478229687573371265211081161241))\n"
     ]
    }
   ],
   "source": [
    "for i in it.islice(adjacent_distance(g, (1,2)),1,10):\n",
    "    print(i)"
   ]
  },
  {
   "cell_type": "code",
   "execution_count": 59,
   "metadata": {},
   "outputs": [],
   "source": [
    "def first_variant(g, x_0, epsilon):\n",
    "    gen = it.dropwhile(lambda (x,e) : e >= epsilon, adjacent_distance(g,x_0))\n",
    "    \n",
    "    return gen.next()"
   ]
  },
  {
   "cell_type": "code",
   "execution_count": 69,
   "metadata": {},
   "outputs": [
    {
     "name": "stdout",
     "output_type": "stream",
     "text": [
      "<type 'tuple'>\n",
      "<type 'tuple'>\n",
      "<type 'tuple'>\n",
      "(5.99999999254942, 3.72529029846191e-8) (5.99999999627471, 1.86264514923096e-8), 3.79906558513104e-8\n"
     ]
    }
   ],
   "source": [
    "contractive2(x,y) = (0.5*x+3, 0.5*y)\n",
    "\n",
    "fix_point2, error2 = first_variant(contractive2, (5,5), 0.00000005)\n",
    "\n",
    "print(\"{} {}, {}\".format(fix_point2, contractive2(*fix_point2), error2))\n"
   ]
  },
  {
   "cell_type": "code",
   "execution_count": null,
   "metadata": {},
   "outputs": [],
   "source": []
  }
 ],
 "metadata": {
  "kernelspec": {
   "display_name": "SageMath 8.1",
   "language": "",
   "name": "sagemath"
  },
  "language_info": {
   "codemirror_mode": {
    "name": "ipython",
    "version": 2
   },
   "file_extension": ".py",
   "mimetype": "text/x-python",
   "name": "python",
   "nbconvert_exporter": "python",
   "pygments_lexer": "ipython2",
   "version": "2.7.14"
  }
 },
 "nbformat": 4,
 "nbformat_minor": 2
}
