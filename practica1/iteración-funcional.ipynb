{
 "cells": [
  {
   "cell_type": "markdown",
   "metadata": {},
   "source": [
    "# Métodos de iteración funcional para sistemas de ecuaciones\n",
    "\n",
    "## Declaración de métodos y funciones auxiliares\n",
    "\n",
    "Entradas:\n",
    "\n",
    " - una función $g: \\mathbb{R}^N \\to \\mathbb{R}^N, g\\in \\mathscr{C}^1(\\mathbb{R}^N)$,\n",
    " - $x_0 \\in \\mathbb{R}^N$.\n",
    " \n",
    "y, según la variante:\n",
    " \n",
    "  1. tolerancia entre dos iteraciones consecutivas,\n",
    "  2. solución y tolerancia,\n",
    "  3. constante de Lipstchiz y tolerancia."
   ]
  },
  {
   "cell_type": "markdown",
   "metadata": {},
   "source": [
    "Primero, definimos un generador de los términos de la sucesión para cada método."
   ]
  },
  {
   "cell_type": "code",
   "execution_count": 1,
   "metadata": {},
   "outputs": [],
   "source": [
    "def functional_iteration(g, x_0):\n",
    "    \n",
    "    x = vector(x_0)\n",
    "    while True:\n",
    "        yield x\n",
    "        x = g(*x).n()"
   ]
  },
  {
   "cell_type": "markdown",
   "metadata": {},
   "source": [
    "En el método de Newton, resolvemos el SEL correspondiente en lugar de hallar la inversa de la matriz."
   ]
  },
  {
   "cell_type": "code",
   "execution_count": 2,
   "metadata": {},
   "outputs": [],
   "source": [
    "def newton(g, x_0):\n",
    "    x = vector(x_0)\n",
    "    f = g.derivative()\n",
    "    while True:\n",
    "        yield x\n",
    "        y = f(*x).solve_right(g(*x))\n",
    "        x = vector(x) - vector(y)"
   ]
  },
  {
   "cell_type": "markdown",
   "metadata": {},
   "source": [
    "Para la primera variante, creamos un generador que, a partir de uno de los métodos, nos dé la distancia entre dos aproximaciones consecutivas, y nos quedamos con el primer elemento del generador para el que la distancia con la aproximación anterior sea menor que la tolerancia dada."
   ]
  },
  {
   "cell_type": "code",
   "execution_count": 3,
   "metadata": {},
   "outputs": [],
   "source": [
    "def adjacent_distance(method, g, x_0):\n",
    "    gen = method(g, x_0)\n",
    "    x = gen.next()\n",
    "    \n",
    "    for i in gen:\n",
    "        yield (i,(x-i).norm(oo))\n",
    "        x = i"
   ]
  },
  {
   "cell_type": "code",
   "execution_count": 4,
   "metadata": {},
   "outputs": [],
   "source": [
    "import itertools as it\n",
    "\n",
    "def first_variant(method, g, x_0, epsilon):\n",
    "    orig_gen = adjacent_distance(method,g,x_0)\n",
    "    gen = it.takewhile(lambda (x,e) : e >= epsilon, orig_gen)\n",
    "    \n",
    "    return it.chain(gen, it.islice(orig_gen,1))"
   ]
  },
  {
   "cell_type": "markdown",
   "metadata": {},
   "source": [
    "Para la segunda variante, procedemos de forma similar y creamos un generador que pare en la primera aproximación que nos proporcione un error menor que la tolerancia."
   ]
  },
  {
   "cell_type": "code",
   "execution_count": 5,
   "metadata": {},
   "outputs": [],
   "source": [
    "def second_variant(method, g, x_0, sol, epsilon):\n",
    "    orig_gen = method(g,x_0)\n",
    "    gen = it.takewhile(lambda (x) : (x-sol).norm() >= epsilon, orig_gen)\n",
    "    \n",
    "    return it.chain(gen, it.islice(orig_gen,2))"
   ]
  },
  {
   "cell_type": "markdown",
   "metadata": {},
   "source": [
    "En este caso, tenemos $L\\in (L_0,1)$, con $L_0$ la constante de Lipschitz de $g$, y el teorema del punto fijo nos da la cota\n",
    "\n",
    "$$|x_n-x^*| \\le \\frac{L^n}{1-L}|g(x_0)-x_0|$$\n",
    "\n",
    "Ahora, si imponemos \n",
    "\n",
    "$$\\frac{L^n}{1-L}|g(x_0)-x_0| < \\varepsilon$$\n",
    "\n",
    "tenemos que\n",
    "\n",
    "$$ n > \\frac{\\log\\left(\\displaystyle\\frac{\\varepsilon(1-L)}{|g(x_0)-x_0|}\\right)}{\\log(L)} $$"
   ]
  },
  {
   "cell_type": "code",
   "execution_count": 6,
   "metadata": {},
   "outputs": [],
   "source": [
    "def third_variant(g, x_0, L, epsilon):\n",
    "    n_iterations = int((log(epsilon*(1-L)/(vector(g(*x_0))-vector(x_0)).norm())/log(L)))+2\n",
    "    \n",
    "    return it.islice(functional_iteration(g,x_0), n_iterations)"
   ]
  },
  {
   "cell_type": "code",
   "execution_count": 7,
   "metadata": {},
   "outputs": [],
   "source": [
    "def print_all(gen):\n",
    "    for i in gen:\n",
    "        print(i)\n",
    "        \n",
    "def print_last(gen):\n",
    "    j = None\n",
    "    for j in gen:\n",
    "        pass\n",
    "    print(j)"
   ]
  },
  {
   "cell_type": "markdown",
   "metadata": {
    "collapsed": true
   },
   "source": [
    "# Ejemplos\n",
    "\n",
    "Tomamos la función:\n",
    "$$\n",
    "    f(x,y) = ( y - \\arctan(x), x - \\arctan(y))\\\\\n",
    "$$\n",
    "\n",
    "Así, podemos definir dos formas de aplicar la iteración funcional.\n",
    "La primera sería $g_1$:\n",
    "\n",
    "$$\n",
    "    \\begin{cases}\n",
    "    y=\\arctan(x) \\\\\n",
    "    x = \\arctan(x)\n",
    "    \\end{cases}\n",
    "$$\n",
    "\n",
    "Y la segunda sería $g_2$:\n",
    "$$\n",
    "    \\begin{cases}\n",
    "    y=\\tan(x) \\\\\n",
    "    x = \\tan(y)\n",
    "    \\end{cases}\n",
    "$$\n",
    "\n",
    "La tangente es claramente no contractiva, por lo que escogeremos ahora el dominio para la función $g_1$ que será: $D= \\left(-\\displaystyle\\frac{\\pi}{2}, \\displaystyle\\frac{\\pi}{2}\\right)$. En este dominio, $g_1(D) \\subseteq D$.\n",
    "\n",
    "Ahora, analizamos lo que se ha pedido:"
   ]
  },
  {
   "cell_type": "code",
   "execution_count": 28,
   "metadata": {
    "scrolled": true
   },
   "outputs": [],
   "source": [
    "import sys\n",
    "\n",
    "f(x,y) = (y-arctan(x), x-arctan(y))\n",
    "\n",
    "g_1(x,y) = (arctan(y), arctan(x))\n",
    "g_2(x,y) = (tan(x), tan(y))"
   ]
  },
  {
   "cell_type": "code",
   "execution_count": 29,
   "metadata": {},
   "outputs": [
    {
     "name": "stdout",
     "output_type": "stream",
     "text": [
      "Todos las aproximaciones del primer método, primera variante\n",
      "Aproximación: (0.463647609000806, 0.463647609000806), distancia entre términos: 0.0363523909991939\n",
      "Aproximación: (0.434145140168418, 0.434145140168418), distancia entre términos: 0.0295024688323881\n",
      "Aproximación: (0.409591093415996, 0.409591093415996), distancia entre términos: 0.0245540467524215\n",
      "Aproximación: (0.388747119537355, 0.388747119537355), distancia entre términos: 0.0208439738786419\n",
      "Aproximación: (0.370768137419872, 0.370768137419872), distancia entre términos: 0.0179789821174821\n",
      "Aproximación: (0.355055392187276, 0.355055392187276), distancia entre términos: 0.0157127452325966\n",
      "Aproximación: (0.341171391269379, 0.341171391269379), distancia entre términos: 0.0138840009178970\n",
      "Aproximación: (0.328788141773278, 0.328788141773278), distancia entre términos: 0.0123832494961010\n",
      "Aproximación: (0.317654319420148, 0.317654319420148), distancia entre términos: 0.0111338223531300\n",
      "Aproximación: (0.307573703539942, 0.307573703539942), distancia entre términos: 0.0100806158802064\n",
      "Aproximación: (0.298390581478549, 0.298390581478549), distancia entre términos: 0.00918312206139266\n",
      "Aproximación: (0.289979610465921, 0.289979610465921), distancia entre términos: 0.00841097101262744\n",
      "Aproximación: (0.282238614080664, 0.282238614080664), distancia entre términos: 0.00774099638525738\n",
      "Aproximación: (0.275083360402052, 0.275083360402052), distancia entre términos: 0.00715525367861164\n",
      "Aproximación: (0.268443708756288, 0.268443708756288), distancia entre términos: 0.00663965164576441\n",
      "Aproximación: (0.262260720744921, 0.262260720744921), distancia entre términos: 0.00618298801136680\n",
      "Aproximación: (0.256484462987222, 0.256484462987222), distancia entre términos: 0.00577625775769919\n",
      "Aproximación: (0.251072314149711, 0.251072314149711), distancia entre términos: 0.00541214883751073\n",
      "Aproximación: (0.245987645055733, 0.245987645055733), distancia entre términos: 0.00508466909397784\n",
      "Aproximación: (0.241198778519764, 0.241198778519764), distancia entre términos: 0.00478886653596949\n",
      "Aproximación: (0.236678161491271, 0.236678161491271), distancia entre términos: 0.00452061702849280\n",
      "Aproximación: (0.232401700159722, 0.232401700159722), distancia entre términos: 0.00427646133154952\n",
      "Aproximación: (0.228348221443499, 0.228348221443499), distancia entre términos: 0.00405347871622302\n",
      "Aproximación: (0.224499033437433, 0.224499033437433), distancia entre términos: 0.00384918800606585\n",
      "Aproximación: (0.220837564035252, 0.220837564035252), distancia entre términos: 0.00366146940218098\n",
      "Aproximación: (0.217349061819780, 0.217349061819780), distancia entre términos: 0.00348850221547195\n",
      "Aproximación: (0.214020346933361, 0.214020346933361), distancia entre términos: 0.00332871488641914\n",
      "Aproximación: (0.210839602355018, 0.210839602355018), distancia entre términos: 0.00318074457834322\n",
      "Aproximación: (0.207796198065205, 0.207796198065205), distancia entre términos: 0.00304340428981256\n",
      "Aproximación: (0.204880542147827, 0.204880542147827), distancia entre términos: 0.00291565591737769\n",
      "Aproximación: (0.202083954087227, 0.202083954087227), distancia entre términos: 0.00279658806059996\n",
      "Aproximación: (0.199398556455358, 0.199398556455358), distancia entre términos: 0.00268539763186967\n",
      "Aproximación: (0.196817181917273, 0.196817181917273), distancia entre términos: 0.00258137453808455\n",
      "Aproximación: (0.194333293060065, 0.194333293060065), distancia entre términos: 0.00248388885720757\n",
      "Aproximación: (0.191940913007563, 0.191940913007563), distancia entre términos: 0.00239238005250256\n",
      "Aproximación: (0.189634565147658, 0.189634565147658), distancia entre términos: 0.00230634785990477\n",
      "Aproximación: (0.187409220591509, 0.187409220591509), distancia entre términos: 0.00222534455614964\n",
      "Aproximación: (0.185260252219659, 0.185260252219659), distancia entre términos: 0.00214896837184977\n",
      "Aproximación: (0.183183394361337, 0.183183394361337), distancia entre términos: 0.00207685785832154\n",
      "Aproximación: (0.181174707308989, 0.181174707308989), distancia entre términos: 0.00200868705234863\n",
      "Aproximación: (0.179230545997693, 0.179230545997693), distancia entre términos: 0.00194416131129513\n",
      "Aproximación: (0.177347532284082, 0.177347532284082), distancia entre términos: 0.00188301371361141\n",
      "Aproximación: (0.175522530346068, 0.175522530346068), distancia entre términos: 0.00182500193801430\n",
      "Aproximación: (0.173752624796678, 0.173752624796678), distancia entre términos: 0.00176990554939008\n",
      "Aproximación: (0.172035101165196, 0.172035101165196), distancia entre términos: 0.00171752363148203\n",
      "Aproximación: (0.170367428448957, 0.170367428448957), distancia entre términos: 0.00166767271623908\n",
      "Aproximación: (0.168747243481201, 0.168747243481201), distancia entre términos: 0.00162018496775543\n",
      "Aproximación: (0.167172336895836, 0.167172336895836), distancia entre términos: 0.00157490658536485\n",
      "Aproximación: (0.165640640499896, 0.165640640499896), distancia entre términos: 0.00153169639594039\n",
      "Aproximación: (0.164150215889892, 0.164150215889892), distancia entre términos: 0.00149042461000401\n",
      "Aproximación: (0.162699244169847, 0.162699244169847), distancia entre términos: 0.00145097172004532\n",
      "Aproximación: (0.161286016647227, 0.161286016647227), distancia entre términos: 0.00141322752261958\n",
      "Aproximación: (0.159908926398771, 0.159908926398771), distancia entre términos: 0.00137709024845584\n",
      "Aproximación: (0.158566460611727, 0.158566460611727), distancia entre términos: 0.00134246578704419\n",
      "Aproximación: (0.157257193617667, 0.157257193617667), distancia entre términos: 0.00130926699405995\n",
      "Aproximación: (0.155979780546085, 0.155979780546085), distancia entre términos: 0.00127741307158169\n",
      "Aproximación: (0.154732951533667, 0.154732951533667), distancia entre términos: 0.00124682901241857\n",
      "Aproximación: (0.153515506432650, 0.153515506432650), distancia entre términos: 0.00121744510101676\n",
      "Aproximación: (0.152326309968248, 0.152326309968248), distancia entre términos: 0.00118919646440241\n",
      "Aproximación: (0.151164287300785, 0.151164287300785), distancia entre términos: 0.00116202266746232\n",
      "Aproximación: (0.150028419953197, 0.150028419953197), distancia entre términos: 0.00113586734758825\n",
      "Aproximación: (0.148917742068864, 0.148917742068864), distancia entre términos: 0.00111067788433339\n",
      "Aproximación: (0.147831336968597, 0.147831336968597), distancia entre términos: 0.00108640510026697\n",
      "Aproximación: (0.146768333978920, 0.146768333978920), distancia entre términos: 0.00106300298967682\n",
      "Aproximación: (0.145727905506748, 0.145727905506748), distancia entre términos: 0.00104042847217153\n",
      "Aproximación: (0.144709264338165, 0.144709264338165), distancia entre términos: 0.00101864116858311\n",
      "Aproximación: (0.142734382155280, 0.142734382155280), distancia entre términos: 0.000977278986012020\n"
     ]
    }
   ],
   "source": [
    "print(\"Todos las aproximaciones del primer método, primera variante\")\n",
    "gen = first_variant(functional_iteration, g_1, (0.5,.5), 1e-3)\n",
    "\n",
    "for fix_point, error in gen:\n",
    "    print(\"Aproximación: {}, distancia entre términos: {}\".format(fix_point, error))"
   ]
  },
  {
   "cell_type": "code",
   "execution_count": 30,
   "metadata": {},
   "outputs": [
    {
     "name": "stdout",
     "output_type": "stream",
     "text": [
      "Aproximacion de la solución por el metodo de Newton.\n",
      "Aproximación: (0.318238045004030, 0.318238045004030), error: 0.181761954995970\n",
      "Aproximación: (0.208038059631220, 0.208038059631220), error: 0.110199985372810\n",
      "Aproximación: (0.137513272689158, 0.137513272689158), error: 0.0705247869420625\n",
      "Aproximación: (0.0913315808523198, 0.0913315808523198), error: 0.0461816918368380\n",
      "Aproximación: (0.0607865035595681, 0.0607865035595681), error: 0.0305450772927517\n",
      "Aproximación: (0.0404944355571086, 0.0404944355571086), error: 0.0202920680024595\n",
      "Aproximación: (0.0269874428881970, 0.0269874428881970), error: 0.0135069926689116\n",
      "Aproximación: (0.0179890086697816, 0.0179890086697816), error: 0.00899843421841546\n",
      "Aproximación: (0.0119918963777518, 0.0119918963777518), error: 0.00599711229202976\n",
      "Aproximación: (0.00799436766579522, 0.00799436766579522), error: 0.00399752871195660\n",
      "Aproximación: (0.00532951032313835, 0.00532951032313835), error: 0.00266485734265687\n",
      "Aproximación: (0.00355298669865907, 0.00355298669865907), error: 0.00177652362447928\n",
      "Aproximación: (0.00236865181887012, 0.00236865181887012), error: 0.00118433487978896\n",
      "Aproximación: (0.00105273243537217, 0.00105273243537217), error: 0.000526367005260910\n"
     ]
    }
   ],
   "source": [
    "print(\"Aproximacion de la solución por el metodo de Newton.\")\n",
    "gen = first_variant(newton, f, (0.5,0.5), 1e-3)\n",
    "    \n",
    "for fix_point, error in gen:\n",
    "    print(\"Aproximación: {}, error: {}\".format(fix_point, error))"
   ]
  },
  {
   "cell_type": "code",
   "execution_count": 31,
   "metadata": {},
   "outputs": [
    {
     "name": "stdout",
     "output_type": "stream",
     "text": [
      "Algunas iteraciones del segundo método\n",
      "Aproximación: (74.6859333987654, 74.6859333987654), distancia entre término: 73.1285256741105\n",
      "Aproximación: (-0.863518854877450, -0.863518854877450), distancia entre término: 75.5494522536428\n",
      "Aproximación: (-1.16985635505842, -1.16985635505842), distancia entre término: 0.306337500180974\n",
      "Aproximación: (-2.35903773417943, -2.35903773417943), distancia entre término: 1.18918137912101\n",
      "Aproximación: (0.994329619022585, 0.994329619022585), distancia entre término: 3.35336735320201\n",
      "Aproximación: (1.53815355692099, 1.53815355692099), distancia entre término: 0.543823937898405\n",
      "Aproximación: (30.6237735079718, 30.6237735079718), distancia entre término: 29.0856199510508\n",
      "Aproximación: (-1.01360181434666, -1.01360181434666), distancia entre término: 31.6373753223185\n",
      "Aproximación: (-1.60501236782676, -1.60501236782676), distancia entre término: 0.591410553480097\n"
     ]
    }
   ],
   "source": [
    "print(\"Algunas iteraciones del segundo método\")\n",
    "gen = first_variant(functional_iteration, g_2, (1,1), 1e-5)\n",
    "\n",
    "for fix_point, error in it.islice(gen,1,10):\n",
    "    print(\"Aproximación: {}, distancia entre término: {}\".format(fix_point, error))"
   ]
  },
  {
   "cell_type": "code",
   "execution_count": 25,
   "metadata": {},
   "outputs": [
    {
     "name": "stdout",
     "output_type": "stream",
     "text": [
      "Última aproximación del primer método, segunda variante\n",
      "Aproximación 29997: (0.00707074666520548, 0.00707074666520548), error: 0.00999954583003793\n"
     ]
    }
   ],
   "source": [
    "print(\"Última aproximación del primer método, segunda variante\")\n",
    "gen = second_variant(functional_iteration, g_1, (0.5,.5), vector([0, 0]), 1e-2)\n",
    "\n",
    "for num, fix_point in enumerate(gen):\n",
    "    pass\n",
    "print(\"Aproximación {}: {}, error: {}\".format(num, fix_point, fix_point.norm()))\n"
   ]
  },
  {
   "cell_type": "markdown",
   "metadata": {},
   "source": [
    "La convergencia de este método es muy lenta, y no conocemos la constante de Lipschitz."
   ]
  },
  {
   "cell_type": "code",
   "execution_count": 27,
   "metadata": {},
   "outputs": [
    {
     "name": "stdout",
     "output_type": "stream",
     "text": [
      "Última aproximación del primer método, tercera variante\n",
      "Aproximación 108471: (0.00371860230638647, 0.00371860230638647), error: 0.00525889781476362\n"
     ]
    }
   ],
   "source": [
    "print(\"Última aproximación del primer método, tercera variante\")\n",
    "gen = third_variant(g_1, (0.5,.5), 0.9999, 1e-2)\n",
    "\n",
    "for num, fix_point in enumerate(gen):\n",
    "    pass\n",
    "print(\"Aproximación {}: {}, error: {}\".format(num, fix_point, fix_point.norm()))"
   ]
  },
  {
   "cell_type": "code",
   "execution_count": 28,
   "metadata": {},
   "outputs": [
    {
     "name": "stdout",
     "output_type": "stream",
     "text": [
      "Aproximación de la solución por el método de Newton, segunda variante.\n",
      "Aproximacion 0: (0.500000000000000, 0.500000000000000), error: 0.707106781186548.\n",
      "Aproximacion 1: (0.318238045004030, 0.318238045004030), error: 0.450056559307799.\n",
      "Aproximacion 2: (0.208038059631220, 0.208038059631220), error: 0.294210245420254.\n",
      "Aproximacion 3: (0.137513272689158, 0.137513272689158), error: 0.194473135243317.\n",
      "Aproximacion 4: (0.0913315808523198, 0.0913315808523198), error: 0.129162360314326.\n",
      "Aproximacion 5: (0.0607865035595681, 0.0607865035595681), error: 0.0859650977431816.\n",
      "Aproximacion 6: (0.0404944355571086, 0.0404944355571086), error: 0.0572677799655063.\n",
      "Aproximacion 7: (0.0269874428881970, 0.0269874428881970), error: 0.0381660077462576.\n",
      "Aproximacion 8: (0.0179890086697816, 0.0179890086697816), error: 0.0254403000344523.\n",
      "Aproximacion 9: (0.0119918963777518, 0.0119918963777518), error: 0.0169591024959894.\n",
      "Aproximacion 10: (0.00799436766579522, 0.00799436766579522), error: 0.0113057431755645.\n",
      "Aproximacion 11: (0.00355298669865907, 0.00355298669865907), error: 0.00502468197617487.\n",
      "Aproximacion 12: (0.00236865181887012, 0.00236865181887012), error: 0.00334977952678582.\n"
     ]
    }
   ],
   "source": [
    "print(\"Aproximación de la solución por el método de Newton, segunda variante.\")\n",
    "gen = second_variant(newton, f, (0.5,0.5), vector([0,0]), 1e-2)\n",
    "\n",
    "for num, fix_point in enumerate(gen):\n",
    "    print(\"Aproximacion {}: {}, error: {}.\".format(num, fix_point, fix_point.norm()))"
   ]
  },
  {
   "cell_type": "markdown",
   "metadata": {},
   "source": [
    "# Ejercicios"
   ]
  },
  {
   "cell_type": "markdown",
   "metadata": {},
   "source": [
    "Empecemos con el primer apartado del ejercicio 21 en el que compararemos las ejecuciones y resultados del ejercicio 18, en este se nos pedía resolverlo con el método de convergencia funcional. Ahora nos piden resolverlo con el método de Newton y que comparemos la eficiencia y resultados de ambos métodos."
   ]
  },
  {
   "cell_type": "markdown",
   "metadata": {},
   "source": [
    "## Ejercicio 18"
   ]
  },
  {
   "cell_type": "code",
   "execution_count": 8,
   "metadata": {},
   "outputs": [
    {
     "name": "stdout",
     "output_type": "stream",
     "text": [
      "Todos las aproximaciones de la primera variante con el método de Newton\n",
      "1: \n",
      "\tAproximación: (0.499869672926428, 0.0194668485374181, -0.521520471935831), \n",
      "\tpunto: (-0.000339446456205650, -0.344387927635969, 0.0318823779239974) \n",
      "\tdistancia entre términos: 0.421520471935831\n",
      "2: \n",
      "\tAproximación: (0.500014240164219, 0.00158859137029389, -0.523556964347638), \n",
      "\tpunto: (0.0000430663701153078, -0.0258891432153728, 0.0000422220935369921) \n",
      "\tdistancia entre términos: 0.0178782571671242\n",
      "3: \n",
      "\tAproximación: (0.500000113467834, 0.0000124447833215471, -0.523598450072889), \n",
      "\tpunto: (3.40424732292455e-7, -0.000201222653344435, 2.88134476278401e-7) \n",
      "\tdistancia entre términos: 0.00157614658697235\n",
      "4: \n",
      "\tAproximación: (0.500000000007076, 7.75785723143997e-10, -0.523598775578007), \n",
      "\tpunto: (2.12270201416231e-11, -1.25430800190784e-8, 1.79447567916213e-11) \n",
      "\tdistancia entre términos: 0.0000124440075358239\n",
      "5: \n",
      "\tAproximación: (0.500000000000000, 8.32164840773978e-18, -0.523598775598299), \n",
      "\tpunto: (0.000000000000000, -2.22044604925031e-16, 1.77635683940025e-15) \n",
      "\tdistancia entre términos: 1.11022302462516e-16\n",
      "\n",
      "\n",
      "Todos las aproximaciones de la primera variante con el método de Iteración Funcional\n",
      "1: \n",
      "\tAproximación: (0.499983333472222, 0.00944114960371334, -0.523101267285757), \n",
      "\tpunto: (0.499995934919313, 0.0000255677467667359, -0.523363310908805) \n",
      "\tdistancia entre términos: 0.423101267285757\n",
      "\n",
      "2: \n",
      "\tAproximación: (0.499995934919313, 0.0000255677467667359, -0.523363310908805), \n",
      "\tpunto: (0.499999999970157, 0.0000123367203633540, -0.523598136413912) \n",
      "\tdistancia entre términos: 0.00941558185694660\n",
      "\n",
      "3: \n",
      "\tAproximación: (0.499999999970157, 0.0000123367203633540, -0.523598136413912), \n",
      "\tpunto: (0.499999999993046, 3.41679062543232e-8, -0.523598467181241) \n",
      "\tdistancia entre términos: 0.000234825505107006\n",
      "\n",
      "4: \n",
      "\tAproximación: (0.499999999993046, 3.41679062543232e-8, -0.523598467181241), \n",
      "\tpunto: (0.500000000000000, 1.64870403995820e-8, -0.523598774744101) \n",
      "\tdistancia entre términos: 0.0000123025524570997\n",
      "\n",
      "5: \n",
      "\tAproximación: (0.500000000000000, 4.56640003587694e-11, -0.523598775186123), \n",
      "\tpunto: (0.500000000000000, 2.20342355472525e-11, -0.523598775597157) \n",
      "\tdistancia entre términos: 1.64413763992233e-8\n",
      "\n"
     ]
    }
   ],
   "source": [
    "ejercicio18Iter(x,y,z)=((cos(y*z)+1/2)/3, sqrt((sin(z)+x^2+1.06)/81)-0.1, -(exp(-x*y)+(10*pi.n()-3)/3)/20)\n",
    "ejercicio18New(x,y,z)=(-cos(y*z)+3*x-0.5, sin(z)+x^2-81*(y+0.1)^2+1.06 , e^(-x*y)+20*z+(10*pi.n()-3)/3)\n",
    "print(\"Todos las aproximaciones de la primera variante con el método de Newton\")\n",
    "Primera = first_variant(newton, ejercicio18New, (0.1,0.1,-0.1), 10^(-5))\n",
    "\n",
    "fix_point, error = None, None\n",
    "for indice,(fix_point,error) in enumerate(Primera):\n",
    "    print(\"{}: \\n\\tAproximación: {}, \\n\\tpunto: {} \\n\\tdistancia entre términos: {}\".format(indice+1,fix_point, ejercicio18New(*fix_point), error))\n",
    "    \n",
    "\n",
    "    \n",
    "print(\"\\n\\nTodos las aproximaciones de la primera variante con el método de Iteración Funcional\")\n",
    "Primera = first_variant(functional_iteration, ejercicio18Iter, (0.1,0.1,-0.1), 10^(-5))\n",
    "\n",
    "fix_point, error = None, None\n",
    "for indice,(fix_point,error) in enumerate(Primera):\n",
    "    print(\"{}: \\n\\tAproximación: {}, \\n\\tpunto: {} \\n\\tdistancia entre términos: {}\\n\".format(indice+1, fix_point, ejercicio18Iter(*fix_point), error))\n",
    "    "
   ]
  },
  {
   "cell_type": "markdown",
   "metadata": {},
   "source": [
    "Como podemos ver, con el método de Newton hemos necesitado una iteración menos para alcanzar la tolerancia deseada dentro del contexto de la distancia entre dos términos. No sólo eso, sino que, con una iteración menos hemos conseguido que la distancia entre términos sea 10^8 veces menor. \n",
    "\n",
    "Por ello podemos asegurar que, en este caso particular, el método de Newton converge más rápidamente.\n",
    "\n",
    "A continuación haremos la misma prueba, pero esta vez con el ejercicio 20."
   ]
  },
  {
   "cell_type": "markdown",
   "metadata": {},
   "source": [
    "## Ejercicio 20"
   ]
  },
  {
   "cell_type": "code",
   "execution_count": 12,
   "metadata": {},
   "outputs": [
    {
     "name": "stdout",
     "output_type": "stream",
     "text": [
      "\n",
      "\n",
      "Todos las aproximaciones de la primera variante con el método de Iteración Funcional\n",
      "1: \n",
      "\tAproximación: (0.111803398874989, 0.304079095241292), \n",
      "\tpunto: (0.0608158190482584*sqrt(5), 0.266423427535425) \n",
      "\tdistancia entre términos: 0.138196601125011\n",
      "\n",
      "2: \n",
      "\tAproximación: (0.135988305499232, 0.266423427535425), \n",
      "\tpunto: (0.0532846855070850*sqrt(5), 0.275072068196639) \n",
      "\tdistancia entre términos: 0.0376556677058668\n",
      "\n",
      "3: \n",
      "\tAproximación: (0.119148178953540, 0.275072068196639), \n",
      "\tpunto: (0.0550144136393278*sqrt(5), 0.270318023474851) \n",
      "\tdistancia entre términos: 0.0168401265456923\n",
      "\n",
      "4: \n",
      "\tAproximación: (0.123015968639829, 0.270318023474851), \n",
      "\tpunto: (0.0540636046949702*sqrt(5), 0.271597989694383) \n",
      "\tdistancia entre términos: 0.00475404472178792\n",
      "\n",
      "5: \n",
      "\tAproximación: (0.120889895206630, 0.271597989694383), \n",
      "\tpunto: (0.0543195979388767*sqrt(5), 0.270984771837357) \n",
      "\tdistancia entre términos: 0.00212607343319837\n",
      "\n",
      "6: \n",
      "\tAproximación: (0.121462313501786, 0.270984771837357), \n",
      "\tpunto: (0.0541969543674714*sqrt(5), 0.271167908932786) \n",
      "\tdistancia entre términos: 0.000613217857026338\n",
      "\n",
      "7: \n",
      "\tAproximación: (0.121188074139120, 0.271167908932786), \n",
      "\tpunto: (0.0542335817865572*sqrt(5), 0.271087593475183) \n",
      "\tdistancia entre términos: 0.000274239362665532\n",
      "\n",
      "8: \n",
      "\tAproximación: (0.121269975538036, 0.271087593475183), \n",
      "\tpunto: (0.0542175186950366*sqrt(5), 0.271113296035865) \n",
      "\tdistancia entre términos: 0.0000819013989161732\n",
      "\n",
      "9: \n",
      "\tAproximación: (0.121234057373468, 0.271113296035865), \n",
      "\tpunto: (0.0542226592071730*sqrt(5), 0.271102661688650) \n",
      "\tdistancia entre términos: 0.0000359181645687712\n",
      "\n",
      "10: \n",
      "\tAproximación: (0.121245551908044, 0.271102661688650), \n",
      "\tpunto: (0.0542205323377300*sqrt(5), 0.271106226195433) \n",
      "\tdistancia entre términos: 0.0000114945345761064\n",
      "\n",
      "11: \n",
      "\tAproximación: (0.121242390179284, 0.271104807327441), \n",
      "\tpunto: (0.0542209614654882*sqrt(5), 0.271105297918000) \n",
      "\tdistancia entre términos: 1.59409589452209e-6\n",
      "\n"
     ]
    }
   ],
   "source": [
    "ejercicio20Iter(x,y)=(y/sqrt(5),(sin(x)+cos(y))/4)\n",
    "ejercicio20New(x,y)=(5*x^2-y^2,y-(sin(x)+cos(y))/4)\n",
    "\n",
    "print(\"\\n\\nTodos las aproximaciones de la primera variante con el método de Iteración Funcional\")\n",
    "Segunda = first_variant(functional_iteration, ejercicio20Iter, (1/4,1/4), 10^(-5))\n",
    "\n",
    "fix_point, error = None, None\n",
    "for indice,(fix_point,error) in enumerate(Segunda):\n",
    "    print(\"{}: \\n\\tAproximación: {}, \\n\\tpunto: {} \\n\\tdistancia entre términos: {}\\n\".format(indice+1, fix_point, ejercicio20Iter(*fix_point), error))\n"
   ]
  },
  {
   "cell_type": "code",
   "execution_count": null,
   "metadata": {
    "collapsed": true
   },
   "outputs": [],
   "source": [
    "print(\"Todos las aproximaciones de la primera variante con el método de Newton\")\n",
    "Segunda = first_variant(newton, ejercicio20New, (1/4,1/4), 10^(-5))\n",
    "\n",
    "fix_point, error = None, None\n",
    "for indice,(fix_point,error) in enumerate(Segunda):\n",
    "    print(\"{}: \\n\\tAproximación: {}, \\n\\tpunto: {} \\n\\tdistancia entre términos: {}\".format(indice+1,fix_point, ejercicio20New(*fix_point), error))\n",
    "    \n"
   ]
  },
  {
   "cell_type": "markdown",
   "metadata": {},
   "source": [
    "Como podemos ver, en este caso el coste computacional es demasiado grande en el caso del método de Newton. Sin embargo, en el método de iteración funcional el coste computacional es mínimo en comparación.\n",
    "\n",
    "Tras hacer ambas comparaciones con ambos ejercicios, vemos que, conforme están actualmente diseñados estos algoritmos, el algoritmo de iteración funcional es mucho más eficiente."
   ]
  }
 ],
 "metadata": {
  "kernelspec": {
   "display_name": "SageMath 8.1",
   "language": "",
   "name": "sagemath"
  },
  "language_info": {
   "codemirror_mode": {
    "name": "ipython",
    "version": 2
   },
   "file_extension": ".py",
   "mimetype": "text/x-python",
   "name": "python",
   "nbconvert_exporter": "python",
   "pygments_lexer": "ipython2",
   "version": "2.7.14"
  }
 },
 "nbformat": 4,
 "nbformat_minor": 2
}
