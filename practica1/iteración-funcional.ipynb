{
 "cells": [
  {
   "cell_type": "markdown",
   "metadata": {},
   "source": [
    "# Método de iteración funcional para sistemas de ecuaciones\n",
    "\n",
    "Entradas:\n",
    "\n",
    " - una función $g: \\mathbb{R}^N \\to \\mathbb{R}^N$,\n",
    " - $x_0 \\in \\mathbb{R}^N$.\n",
    " \n",
    "y, según la variante:\n",
    " \n",
    "  1. tolerancia entre dos iteraciones consecutivas,\n",
    "  2. solución y tolerancia,\n",
    "  3. constante de Lipstchiz y tolerancia."
   ]
  },
  {
   "cell_type": "markdown",
   "metadata": {},
   "source": [
    "Primero, definimos un generador infinito de los términos de la sucesión."
   ]
  },
  {
   "cell_type": "code",
   "execution_count": 1,
   "metadata": {},
   "outputs": [],
   "source": [
    "def functional_iteration(g, x_0):\n",
    "    x = x_0\n",
    "    while True:\n",
    "        x = g(*x)\n",
    "        yield x"
   ]
  },
  {
   "cell_type": "code",
   "execution_count": 19,
   "metadata": {},
   "outputs": [],
   "source": [
    "def newton(g, x_0):\n",
    "    x = x_0\n",
    "    f = g.derivative()\n",
    "    while True:\n",
    "        y = f(*x).solve_right(g(*x))\n",
    "        x = vector(x) - vector(y)\n",
    "        yield x"
   ]
  },
  {
   "cell_type": "code",
   "execution_count": 3,
   "metadata": {},
   "outputs": [
    {
     "name": "stdout",
     "output_type": "stream",
     "text": [
      "(6, 5)\n",
      "(30, 11)\n",
      "(330, 41)\n",
      "(13530, 371)\n",
      "(5019630, 13901)\n",
      "(69777876630, 5033531)\n",
      "(351229105131280530, 69782910161)\n",
      "(24509789089304573335878465330, 351229174914190691)\n",
      "(8608552999157278550998626549630446732052243030, 24509789089655802510792656021)\n"
     ]
    }
   ],
   "source": [
    "import itertools as it\n",
    "\n",
    "g(x,y) = (x*y,x+y)\n",
    "gen = functional_iteration(g, (1,2))\n",
    "\n",
    "for i in it.islice(gen,1,10):\n",
    "    print(i)"
   ]
  },
  {
   "cell_type": "markdown",
   "metadata": {},
   "source": [
    "Para la primera variante, creamos un generador, a partir del primero, que nos dé la distancia entre dos aproximaciones consecutivas, y nos quedamos con el primer elemento del generador para el que la distancia sea menor que la tolerancia dada."
   ]
  },
  {
   "cell_type": "code",
   "execution_count": 43,
   "metadata": {},
   "outputs": [],
   "source": [
    "def adjacent_distance(method, g, x_0):\n",
    "    gen = method(g, x_0)\n",
    "    x = gen.next()\n",
    "    \n",
    "    for i in gen:\n",
    "        yield (i,abs(x-i))\n",
    "        x = i\n",
    "        "
   ]
  },
  {
   "cell_type": "code",
   "execution_count": 44,
   "metadata": {},
   "outputs": [
    {
     "name": "stdout",
     "output_type": "stream",
     "text": [
      "((30, 11), 6*sqrt(17))\n",
      "((330, 41), 30*sqrt(101))\n",
      "((13530, 371), 330*sqrt(1601))\n",
      "((5019630, 13901), 13530*sqrt(136901))\n",
      "((69777876630, 5033531), 5019630*sqrt(193210001))\n",
      "((351229105131280530, 69782910161), 69777876630*sqrt(25336424260901))\n",
      "((24509789089304573335878465330, 351229174914190691), 69777876630*sqrt(123379682716031369741064342213329561))\n",
      "((8608552999157278550998626549630446732052243030, 24509789089655802510792656021), 69777876630*sqrt(15220356191571673096601625389721419779642653785332869973603759289761181))\n",
      "((210993818376468802695338859585511727362673276231266487027284989424284783630, 8608552999157278575508415639286249242844899051), 9699124851570*sqrt(473232283041107039915980536921443272533265969435656341948192334832818735256916412888952020860478229687573371265211081161241))\n"
     ]
    }
   ],
   "source": [
    "for i in it.islice(adjacent_distance(functional_iteration, g, (1,2)),1,10):\n",
    "    print(i)"
   ]
  },
  {
   "cell_type": "code",
   "execution_count": 45,
   "metadata": {},
   "outputs": [],
   "source": [
    "def first_variant(method, g, x_0, epsilon):\n",
    "    orig_gen = adjacent_distance(method,g,x_0)\n",
    "    gen = it.takewhile(lambda (x,e) : e >= epsilon, orig_gen)\n",
    "    \n",
    "    return it.chain(gen, it.islice(orig_gen,1))"
   ]
  },
  {
   "cell_type": "code",
   "execution_count": 46,
   "metadata": {},
   "outputs": [],
   "source": [
    "def second_variant(method, g, x_0, sol, epsilon):\n",
    "    orig_gen = method(g,x_0)\n",
    "    gen = it.takewhile(lambda (x) : abs(x-sol) >= epsilon, orig_gen)\n",
    "    \n",
    "    return it.chain(gen, it.islice(orig_gen,1))"
   ]
  },
  {
   "cell_type": "code",
   "execution_count": 47,
   "metadata": {},
   "outputs": [],
   "source": [
    "def third_variant(g, x_0, L, epsilon):\n",
    "    n_iterations = int((log(epsilon*(1-L)/abs(vector(g(*x_0))-vector(x_0)))/log(L)))+2\n",
    "    \n",
    "    print(\"Iterations: {}\".format(n_iterations))\n",
    "    \n",
    "    return it.islice(functional_iteration(g,x_0), n_iterations)"
   ]
  },
  {
   "cell_type": "code",
   "execution_count": 48,
   "metadata": {},
   "outputs": [],
   "source": [
    "def print_all(gen):\n",
    "    for i in gen:\n",
    "        print(i)\n",
    "        \n",
    "def print_last(gen):\n",
    "    j = None\n",
    "    for j in gen:\n",
    "        pass\n",
    "    print(j)"
   ]
  },
  {
   "cell_type": "code",
   "execution_count": null,
   "metadata": {},
   "outputs": [],
   "source": []
  },
  {
   "cell_type": "code",
   "execution_count": 58,
   "metadata": {},
   "outputs": [
    {
     "name": "stdout",
     "output_type": "stream",
     "text": [
      "Todos las aproximaciones de la primera variante\n",
      "Aproximación: (-6.00000000000000, 0.000000000000000), distancia entre términos: 0\n",
      "Todos las aproximaciones de la tercera variante\n",
      "Iterations: 95\n",
      "Aproximación: (5.50000000000000, 2.50000000000000), error: 2.54950975679639\n",
      "Aproximación: (5.75000000000000, 1.25000000000000), error: 1.27475487839820\n",
      "Aproximación: (5.87500000000000, 0.625000000000000), error: 0.637377439199098\n",
      "Aproximación: (5.93750000000000, 0.312500000000000), error: 0.318688719599549\n",
      "Aproximación: (5.96875000000000, 0.156250000000000), error: 0.159344359799775\n",
      "Aproximación: (5.98437500000000, 0.0781250000000000), error: 0.0796721798998873\n",
      "Aproximación: (5.99218750000000, 0.0390625000000000), error: 0.0398360899499436\n",
      "Aproximación: (5.99609375000000, 0.0195312500000000), error: 0.0199180449749718\n",
      "Aproximación: (5.99804687500000, 0.00976562500000000), error: 0.00995902248748591\n",
      "Aproximación: (5.99902343750000, 0.00488281250000000), error: 0.00497951124374295\n",
      "Aproximación: (5.99951171875000, 0.00244140625000000), error: 0.00248975562187148\n",
      "Aproximación: (5.99975585937500, 0.00122070312500000), error: 0.00124487781093574\n",
      "Aproximación: (5.99987792968750, 0.000610351562500000), error: 0.000622438905467869\n",
      "Aproximación: (5.99993896484375, 0.000305175781250000), error: 0.000311219452733935\n",
      "Aproximación: (5.99996948242188, 0.000152587890625000), error: 0.000155609726366967\n",
      "Aproximación: (5.99998474121094, 0.0000762939453125000), error: 0.0000778048631834837\n",
      "Aproximación: (5.99999237060547, 0.0000381469726562500), error: 0.0000389024315917418\n",
      "Aproximación: (5.99999618530273, 0.0000190734863281250), error: 0.0000194512157958709\n",
      "Aproximación: (5.99999809265137, 9.53674316406250e-6), error: 9.72560789793546e-6\n",
      "Aproximación: (5.99999904632568, 4.76837158203125e-6), error: 4.86280394896773e-6\n",
      "Aproximación: (5.99999952316284, 2.38418579101562e-6), error: 2.43140197448386e-6\n",
      "Aproximación: (5.99999976158142, 1.19209289550781e-6), error: 1.21570098724193e-6\n",
      "Aproximación: (5.99999988079071, 5.96046447753906e-7), error: 6.07850493620966e-7\n",
      "Aproximación: (5.99999994039536, 2.98023223876953e-7), error: 3.03925246810483e-7\n",
      "Aproximación: (5.99999997019768, 1.49011611938477e-7), error: 1.51962623405242e-7\n",
      "Aproximación: (5.99999998509884, 7.45058059692383e-8), error: 7.59813117026208e-8\n",
      "Aproximación: (5.99999999254942, 3.72529029846191e-8), error: 3.79906558513104e-8\n",
      "Aproximación: (5.99999999627471, 1.86264514923096e-8), error: 1.89953279256552e-8\n",
      "Aproximación: (5.99999999813735, 9.31322574615479e-9), error: 9.49766396282759e-9\n",
      "Aproximación: (5.99999999906868, 4.65661287307739e-9), error: 4.74883198141380e-9\n",
      "Aproximación: (5.99999999953434, 2.32830643653870e-9), error: 2.37441599070690e-9\n",
      "Aproximación: (5.99999999976717, 1.16415321826935e-9), error: 1.18720799535345e-9\n",
      "Aproximación: (5.99999999988358, 5.82076609134674e-10), error: 5.93603997676725e-10\n",
      "Aproximación: (5.99999999994179, 2.91038304567337e-10), error: 2.96801998838362e-10\n",
      "Aproximación: (5.99999999997090, 1.45519152283669e-10), error: 1.48400999419181e-10\n",
      "Aproximación: (5.99999999998545, 7.27595761418343e-11), error: 7.42004997095906e-11\n",
      "Aproximación: (5.99999999999272, 3.63797880709171e-11), error: 3.71002498547953e-11\n",
      "Aproximación: (5.99999999999636, 1.81898940354586e-11), error: 1.85501249273976e-11\n",
      "Aproximación: (5.99999999999818, 9.09494701772928e-12), error: 9.27506246369882e-12\n",
      "Aproximación: (5.99999999999909, 4.54747350886464e-12), error: 4.63753123184941e-12\n",
      "Aproximación: (5.99999999999955, 2.27373675443232e-12), error: 2.31876561592471e-12\n",
      "Aproximación: (5.99999999999977, 1.13686837721616e-12), error: 1.15938280796235e-12\n",
      "Aproximación: (5.99999999999989, 5.68434188608080e-13), error: 5.79691403981176e-13\n",
      "Aproximación: (5.99999999999994, 2.84217094304040e-13), error: 2.89845701990588e-13\n",
      "Aproximación: (5.99999999999997, 1.42108547152020e-13), error: 1.44922850995294e-13\n",
      "Aproximación: (5.99999999999999, 7.10542735760100e-14), error: 7.24614254976470e-14\n",
      "Aproximación: (5.99999999999999, 3.55271367880050e-14), error: 3.62307127488235e-14\n",
      "Aproximación: (6.00000000000000, 1.77635683940025e-14), error: 1.81153563744118e-14\n",
      "Aproximación: (6.00000000000000, 8.88178419700125e-15), error: 9.05767818720588e-15\n",
      "Aproximación: (6.00000000000000, 4.44089209850063e-15), error: 4.52883909360294e-15\n",
      "Aproximación: (6.00000000000000, 2.22044604925031e-15), error: 2.22044604925031e-15\n",
      "Aproximación: (6.00000000000000, 1.11022302462516e-15), error: 1.11022302462516e-15\n",
      "Aproximación: (6.00000000000000, 5.55111512312578e-16), error: 5.55111512312578e-16\n",
      "Aproximación: (6.00000000000000, 2.77555756156289e-16), error: 2.77555756156289e-16\n",
      "Aproximación: (6.00000000000000, 1.38777878078145e-16), error: 1.38777878078145e-16\n",
      "Aproximación: (6.00000000000000, 6.93889390390723e-17), error: 6.93889390390723e-17\n",
      "Aproximación: (6.00000000000000, 3.46944695195361e-17), error: 3.46944695195361e-17\n",
      "Aproximación: (6.00000000000000, 1.73472347597681e-17), error: 1.73472347597681e-17\n",
      "Aproximación: (6.00000000000000, 8.67361737988404e-18), error: 8.67361737988404e-18\n",
      "Aproximación: (6.00000000000000, 4.33680868994202e-18), error: 4.33680868994202e-18\n",
      "Aproximación: (6.00000000000000, 2.16840434497101e-18), error: 2.16840434497101e-18\n",
      "Aproximación: (6.00000000000000, 1.08420217248550e-18), error: 1.08420217248550e-18\n",
      "Aproximación: (6.00000000000000, 5.42101086242752e-19), error: 5.42101086242752e-19\n",
      "Aproximación: (6.00000000000000, 2.71050543121376e-19), error: 2.71050543121376e-19\n",
      "Aproximación: (6.00000000000000, 1.35525271560688e-19), error: 1.35525271560688e-19\n",
      "Aproximación: (6.00000000000000, 6.77626357803440e-20), error: 6.77626357803440e-20\n",
      "Aproximación: (6.00000000000000, 3.38813178901720e-20), error: 3.38813178901720e-20\n",
      "Aproximación: (6.00000000000000, 1.69406589450860e-20), error: 1.69406589450860e-20\n",
      "Aproximación: (6.00000000000000, 8.47032947254300e-21), error: 8.47032947254300e-21\n",
      "Aproximación: (6.00000000000000, 4.23516473627150e-21), error: 4.23516473627150e-21\n",
      "Aproximación: (6.00000000000000, 2.11758236813575e-21), error: 2.11758236813575e-21\n",
      "Aproximación: (6.00000000000000, 1.05879118406788e-21), error: 1.05879118406788e-21\n",
      "Aproximación: (6.00000000000000, 5.29395592033938e-22), error: 5.29395592033938e-22\n",
      "Aproximación: (6.00000000000000, 2.64697796016969e-22), error: 2.64697796016969e-22\n",
      "Aproximación: (6.00000000000000, 1.32348898008484e-22), error: 1.32348898008484e-22\n",
      "Aproximación: (6.00000000000000, 6.61744490042422e-23), error: 6.61744490042422e-23\n",
      "Aproximación: (6.00000000000000, 3.30872245021211e-23), error: 3.30872245021211e-23\n",
      "Aproximación: (6.00000000000000, 1.65436122510606e-23), error: 1.65436122510606e-23\n",
      "Aproximación: (6.00000000000000, 8.27180612553028e-24), error: 8.27180612553028e-24\n",
      "Aproximación: (6.00000000000000, 4.13590306276514e-24), error: 4.13590306276514e-24\n",
      "Aproximación: (6.00000000000000, 2.06795153138257e-24), error: 2.06795153138257e-24\n",
      "Aproximación: (6.00000000000000, 1.03397576569128e-24), error: 1.03397576569128e-24\n",
      "Aproximación: (6.00000000000000, 5.16987882845642e-25), error: 5.16987882845642e-25\n",
      "Aproximación: (6.00000000000000, 2.58493941422821e-25), error: 2.58493941422821e-25\n",
      "Aproximación: (6.00000000000000, 1.29246970711411e-25), error: 1.29246970711411e-25\n",
      "Aproximación: (6.00000000000000, 6.46234853557053e-26), error: 6.46234853557053e-26\n",
      "Aproximación: (6.00000000000000, 3.23117426778526e-26), error: 3.23117426778526e-26\n",
      "Aproximación: (6.00000000000000, 1.61558713389263e-26), error: 1.61558713389263e-26\n",
      "Aproximación: (6.00000000000000, 8.07793566946316e-27), error: 8.07793566946316e-27\n",
      "Aproximación: (6.00000000000000, 4.03896783473158e-27), error: 4.03896783473158e-27\n",
      "Aproximación: (6.00000000000000, 2.01948391736579e-27), error: 2.01948391736579e-27\n",
      "Aproximación: (6.00000000000000, 1.00974195868290e-27), error: 1.00974195868290e-27\n",
      "Aproximación: (6.00000000000000, 5.04870979341448e-28), error: 5.04870979341448e-28\n",
      "Aproximación: (6.00000000000000, 2.52435489670724e-28), error: 2.52435489670724e-28\n",
      "Aproximación: (6.00000000000000, 1.26217744835362e-28), error: 1.26217744835362e-28\n",
      "\n",
      "Última aproximación de la segunda variante\n",
      "(5.99999999906868, 4.65661287307739e-9)\n"
     ]
    }
   ],
   "source": [
    "contractive2(x,y) = (0.5*x+3, 0.5*y)\n",
    "\n",
    "print(\"Todos las aproximaciones de la primera variante\")\n",
    "gen = first_variant(newton, contractive2, (0.5,.5), 0.0000005)\n",
    "\n",
    "fix_point, error = None, None\n",
    "for fix_point, error in gen:\n",
    "    print(\"Aproximación: {}, distancia entre términos: {}\".format(fix_point, error))\n",
    "    \n",
    "print(\"Todos las aproximaciones de la tercera variante\")\n",
    "gen = third_variant(contractive2, (5,5), 0.8, 10e-9)\n",
    "\n",
    "fix_point = None, None\n",
    "for fix_point in gen:\n",
    "    print(\"Aproximación: {}, error: {}\".format(fix_point, abs(vector((6,0))-fix_point)))\n",
    "\n",
    "print(\"\")\n",
    "print(\"Última aproximación de la segunda variante\")\n",
    "print_last(second_variant(functional_iteration, contractive2, (5,5), fix_point, 10e-9))"
   ]
  },
  {
   "cell_type": "markdown",
   "metadata": {},
   "source": []
  },
  {
   "cell_type": "code",
   "execution_count": null,
   "metadata": {},
   "outputs": [],
   "source": []
  }
 ],
 "metadata": {
  "kernelspec": {
   "display_name": "SageMath 8.1",
   "language": "",
   "name": "sagemath"
  },
  "language_info": {
   "codemirror_mode": {
    "name": "ipython",
    "version": 2
   },
   "file_extension": ".py",
   "mimetype": "text/x-python",
   "name": "python",
   "nbconvert_exporter": "python",
   "pygments_lexer": "ipython2",
   "version": "2.7.14"
  }
 },
 "nbformat": 4,
 "nbformat_minor": 2
}
