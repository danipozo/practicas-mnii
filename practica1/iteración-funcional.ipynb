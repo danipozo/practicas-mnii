{
 "cells": [
  {
   "cell_type": "markdown",
   "metadata": {
    "deletable": true,
    "editable": true
   },
   "source": [
    "# Métodos de iteración funcional para sistemas de ecuaciones\n",
    "\n",
    "Entradas:\n",
    "\n",
    " - una función $g: \\mathbb{R}^N \\to \\mathbb{R}^N, g\\in \\mathscr{C}^1(\\mathbb{R}^N)$,\n",
    " - $x_0 \\in \\mathbb{R}^N$.\n",
    " \n",
    "y, según la variante:\n",
    " \n",
    "  1. tolerancia entre dos iteraciones consecutivas,\n",
    "  2. solución y tolerancia,\n",
    "  3. constante de Lipstchiz y tolerancia."
   ]
  },
  {
   "cell_type": "markdown",
   "metadata": {
    "deletable": true,
    "editable": true
   },
   "source": [
    "Primero, definimos un generador de los términos de la sucesión para cada método."
   ]
  },
  {
   "cell_type": "code",
   "execution_count": 1,
   "metadata": {
    "collapsed": true,
    "deletable": true,
    "editable": true
   },
   "outputs": [],
   "source": [
    "def functional_iteration(g, x_0):\n",
    "    \n",
    "    x = vector(x_0)\n",
    "    while True:\n",
    "        yield x\n",
    "        x = g(*x).n()"
   ]
  },
  {
   "cell_type": "markdown",
   "metadata": {
    "deletable": true,
    "editable": true
   },
   "source": [
    "En el método de Newton, resolvemos el SEL correspondiente en lugar de hallar la inversa de la matriz."
   ]
  },
  {
   "cell_type": "code",
   "execution_count": 2,
   "metadata": {
    "collapsed": true,
    "deletable": true,
    "editable": true
   },
   "outputs": [],
   "source": [
    "def newton(g, x_0):\n",
    "    x = vector(x_0)\n",
    "    f = g.derivative()\n",
    "    while True:\n",
    "        yield x\n",
    "        y = f(*x).solve_right(g(*x))\n",
    "        x = vector(x) - vector(y)"
   ]
  },
  {
   "cell_type": "markdown",
   "metadata": {
    "deletable": true,
    "editable": true
   },
   "source": [
    "Para la primera variante, creamos un generador que, a partir de uno de los métodos, nos dé la distancia entre dos aproximaciones consecutivas, y nos quedamos con el primer elemento del generador para el que la distancia con la aproximación anterior sea menor que la tolerancia dada."
   ]
  },
  {
   "cell_type": "code",
   "execution_count": 3,
   "metadata": {
    "collapsed": true,
    "deletable": true,
    "editable": true
   },
   "outputs": [],
   "source": [
    "def adjacent_distance(method, g, x_0):\n",
    "    gen = method(g, x_0)\n",
    "    x = gen.next()\n",
    "    \n",
    "    for i in gen:\n",
    "        yield (i,(x-i).norm(oo))\n",
    "        x = i"
   ]
  },
  {
   "cell_type": "code",
   "execution_count": 4,
   "metadata": {
    "collapsed": true,
    "deletable": true,
    "editable": true
   },
   "outputs": [],
   "source": [
    "import itertools as it\n",
    "\n",
    "def first_variant(method, g, x_0, epsilon):\n",
    "    orig_gen = adjacent_distance(method,g,x_0)\n",
    "    gen = it.takewhile(lambda (x,e) : e >= epsilon, orig_gen)\n",
    "    \n",
    "    return it.chain(gen, it.islice(orig_gen,1))"
   ]
  },
  {
   "cell_type": "markdown",
   "metadata": {
    "deletable": true,
    "editable": true
   },
   "source": [
    "Para la segunda variante, procedemos de forma similar y creamos un generador que pare en la primera aproximación que nos proporcione un error menor que la tolerancia."
   ]
  },
  {
   "cell_type": "code",
   "execution_count": 5,
   "metadata": {
    "collapsed": true,
    "deletable": true,
    "editable": true
   },
   "outputs": [],
   "source": [
    "def second_variant(method, g, x_0, sol, epsilon):\n",
    "    orig_gen = method(g,x_0)\n",
    "    gen = it.takewhile(lambda (x) : abs(x-sol) >= epsilon, orig_gen)\n",
    "    \n",
    "    return it.chain(gen, it.islice(orig_gen,1))"
   ]
  },
  {
   "cell_type": "markdown",
   "metadata": {
    "deletable": true,
    "editable": true
   },
   "source": [
    "En este caso, tenemos $L\\in (L_0,1)$, con $L_0$ la constante de Lipschitz de $g$, y el teorema del punto fijo nos da la cota\n",
    "\n",
    "$$|x_n-x^*| \\le \\frac{L^n}{1-L}|g(x_0)-x_0|$$\n",
    "\n",
    "Ahora, si imponemos \n",
    "\n",
    "$$\\frac{L^n}{1-L}|g(x_0)-x_0| < \\varepsilon$$\n",
    "\n",
    "tenemos que\n",
    "\n",
    "$$ n > \\frac{\\log\\left(\\displaystyle\\frac{\\varepsilon(1-L)}{|g(x_0)-x_0|}\\right)}{\\log(L)} $$"
   ]
  },
  {
   "cell_type": "code",
   "execution_count": 6,
   "metadata": {
    "collapsed": true,
    "deletable": true,
    "editable": true
   },
   "outputs": [],
   "source": [
    "def third_variant(g, x_0, L, epsilon):\n",
    "    n_iterations = int((log(epsilon*(1-L)/abs(vector(g(*x_0))-vector(x_0)))/log(L)))+2\n",
    "    \n",
    "    print(\"Iterations: {}\".format(n_iterations))\n",
    "    \n",
    "    return it.islice(functional_iteration(g,x_0), n_iterations)"
   ]
  },
  {
   "cell_type": "code",
   "execution_count": 7,
   "metadata": {
    "collapsed": true,
    "deletable": true,
    "editable": true
   },
   "outputs": [],
   "source": [
    "def print_all(gen):\n",
    "    for i in gen:\n",
    "        print(i)\n",
    "        \n",
    "def print_last(gen):\n",
    "    j = None\n",
    "    for j in gen:\n",
    "        pass\n",
    "    print(j)"
   ]
  },
  {
   "cell_type": "markdown",
   "metadata": {
    "collapsed": true,
    "deletable": true,
    "editable": true
   },
   "source": [
    "## 2: ejemplos.\n",
    "\n",
    "Tomamos la función:\n",
    "$$\n",
    "    \\begin{cases}\n",
    "    f_1(x,y) = y- arctg(x)\\\\\n",
    "    f_2(x,y) = x - arctg(y)\n",
    "    \\end{cases}\n",
    "$$\n",
    "\n",
    "Así, podemos definir dos formas de aplicar la iteración funcional.\n",
    "La primera sería $g_1$:\n",
    "\n",
    "$$\n",
    "    \\begin{cases}\n",
    "    y=arctg(x) \\\\\n",
    "    x = arctg(x)\n",
    "    \\end{cases}\n",
    "$$\n",
    "\n",
    "Y la segunda sería $g_2$:\n",
    "$$\n",
    "    \\begin{cases}\n",
    "    y=tg(x) \\\\\n",
    "    x = tg(y)\n",
    "    \\end{cases}\n",
    "$$\n",
    "\n",
    "La tangente es claramente no contractiva, por lo que escogeremos ahora el dominio para la función $g_1$ que será: $D= (-\\frac{\\pi}{2}, \\frac{\\pi}{2})$. En este dominio, $g_1(D) \\subseteq D$.\n",
    "\n",
    "Ahora, analizamos lo que se ha pedido:"
   ]
  },
  {
   "cell_type": "code",
   "execution_count": 8,
   "metadata": {
    "collapsed": false,
    "deletable": true,
    "editable": true
   },
   "outputs": [
    {
     "name": "stdout",
     "output_type": "stream",
     "text": [
      "Todos las aproximaciones del primer método\n",
      "Algunas iteraciones del segundo método\n",
      "Aproximación: (74.6859333987654, 74.6859333987654), distancia entre término: 73.1285256741105\n",
      "Aproximación: (-0.863518854877450, -0.863518854877450), distancia entre término: 75.5494522536428\n",
      "Aproximación: (-1.16985635505842, -1.16985635505842), distancia entre término: 0.306337500180974\n",
      "Aproximación: (-2.35903773417943, -2.35903773417943), distancia entre término: 1.18918137912101\n",
      "Aproximación: (0.994329619022585, 0.994329619022585), distancia entre término: 3.35336735320201\n",
      "Aproximación: (1.53815355692099, 1.53815355692099), distancia entre término: 0.543823937898405\n",
      "Aproximación: (30.6237735079718, 30.6237735079718), distancia entre término: 29.0856199510508\n",
      "Aproximación: (-1.01360181434666, -1.01360181434666), distancia entre término: 31.6373753223185\n",
      "Aproximación: (-1.60501236782676, -1.60501236782676), distancia entre término: 0.591410553480097\n",
      "Aproximación: (29.2146517706738, 29.2146517706738), distancia entre término: 30.8196641385006\n",
      "Aproximación: (1.37014874551228, 1.37014874551228), distancia entre término: 27.8445030251616\n",
      "Aproximación: (4.91679999052104, 4.91679999052104), distancia entre término: 3.54665124500876\n",
      "Aproximación: (-4.82377682608996, -4.82377682608996), distancia entre término: 9.74057681661100\n",
      "Aproximación: (8.94048015774826, 8.94048015774826), distancia entre término: 13.7642569838382\n",
      "Aproximación: (-0.526085788856778, -0.526085788856778), distancia entre término: 9.46656594660504\n",
      "Aproximación: (-0.580671061966771, -0.580671061966771), distancia entre término: 0.0545852731099924\n",
      "Aproximación: (-0.656127983201063, -0.656127983201063), distancia entre término: 0.0754569212342923\n",
      "Aproximación: (-0.769919187709407, -0.769919187709407), distancia entre término: 0.113791204508344\n",
      "Aproximación: (-0.969511543661403, -0.969511543661403), distancia entre término: 0.199592355951996\n",
      "Aproximación: (-1.45767370546822, -1.45767370546822), distancia entre término: 0.488162161806816\n",
      "Aproximación: (-8.80222513442110, -8.80222513442110), distancia entre término: 7.34455142895288\n",
      "Aproximación: (0.717769966911433, 0.717769966911433), distancia entre término: 9.51999510133253\n",
      "Aproximación: (0.873130113419013, 0.873130113419013), distancia entre término: 0.155360146507580\n",
      "Aproximación: (1.19288082633092, 1.19288082633092), distancia entre término: 0.319750712911911\n",
      "Aproximación: (2.51890635810906, 2.51890635810906), distancia entre término: 1.32602553177813\n",
      "Aproximación: (-0.717972217880339, -0.717972217880339), distancia entre término: 3.23687857598939\n",
      "Aproximación: (-0.873486614626913, -0.873486614626913), distancia entre término: 0.155514396746574\n",
      "Aproximación: (-1.19374498369215, -1.19374498369215), distancia entre término: 0.320258369065232\n",
      "Aproximación: (-2.52526734595980, -2.52526734595980), distancia entre término: 1.33152236226765\n",
      "Aproximación: (0.708375938794293, 0.708375938794293), distancia entre término: 3.23364328475409\n",
      "Aproximación: (0.856708698591051, 0.856708698591051), distancia entre término: 0.148332759796759\n",
      "Aproximación: (1.15385331210154, 1.15385331210154), distancia entre término: 0.297144613510493\n",
      "Aproximación: (2.25779043526049, 2.25779043526049), distancia entre término: 1.10393712315895\n",
      "Aproximación: (-1.21907339968387, -1.21907339968387), distancia entre término: 3.47686383494437\n",
      "Aproximación: (-2.72492761432750, -2.72492761432750), distancia entre término: 1.50585421464363\n",
      "Aproximación: (0.442578437827363, 0.442578437827363), distancia entre término: 3.16750605215486\n",
      "Aproximación: (0.473934270630227, 0.473934270630227), distancia entre término: 0.0313558328028637\n",
      "Aproximación: (0.512925261834758, 0.512925261834758), distancia entre término: 0.0389909912045308\n",
      "Aproximación: (0.563205545185601, 0.563205545185601), distancia entre término: 0.0502802833508430\n",
      "Aproximación: (0.631424078045628, 0.631424078045628), distancia entre término: 0.0682185328600269\n",
      "Aproximación: (0.731298127512920, 0.731298127512920), distancia entre término: 0.0998740494672925\n",
      "Aproximación: (0.897258018026017, 0.897258018026017), distancia entre término: 0.165959890513097\n",
      "Aproximación: (1.25308638945960, 1.25308638945960), distancia entre término: 0.355828371433582\n",
      "Aproximación: (3.04090220363707, 3.04090220363707), distancia entre término: 1.78781581417747\n",
      "Aproximación: (-0.101032121257270, -0.101032121257270), distancia entre término: 3.14193432489434\n",
      "Aproximación: (-0.101377292096729, -0.101377292096729), distancia entre término: 0.000345170839458342\n",
      "Aproximación: (-0.101726022596358, -0.101726022596358), distancia entre término: 0.000348730499629274\n",
      "Aproximación: (-0.102078374337200, -0.102078374337200), distancia entre término: 0.000352351740841694\n",
      "Aproximación: (-0.102434410401704, -0.102434410401704), distancia entre término: 0.000356036064504697\n",
      "Aproximación: (-0.102794195421116, -0.102794195421116), distancia entre término: 0.000359785019411141\n",
      "Aproximación: (-0.103157795624693, -0.103157795624693), distancia entre término: 0.000363600203577841\n",
      "Aproximación: (-0.103525278890864, -0.103525278890864), distancia entre término: 0.000367483266171004\n",
      "Aproximación: (-0.103896714800386, -0.103896714800386), distancia entre término: 0.000371435909521073\n",
      "Aproximación: (-0.104272174691618, -0.104272174691618), distancia entre término: 0.000375459891232222\n",
      "Aproximación: (-0.104651731718009, -0.104651731718009), distancia entre término: 0.000379557026391308\n",
      "Aproximación: (-0.105035460907891, -0.105035460907891), distancia entre término: 0.000383729189882040\n",
      "Aproximación: (-0.105423439226701, -0.105423439226701), distancia entre término: 0.000387978318809989\n",
      "Aproximación: (-0.105815745641746, -0.105815745641746), distancia entre término: 0.000392306415044605\n",
      "Aproximación: (-0.106212461189631, -0.106212461189631), distancia entre término: 0.000396715547884952\n",
      "Aproximación: (-0.106613669046487, -0.106613669046487), distancia entre término: 0.000401207856856073\n",
      "Aproximación: (-0.107019454601130, -0.107019454601130), distancia entre término: 0.000405785554643337\n",
      "Aproximación: (-0.107429905531303, -0.107429905531303), distancia entre término: 0.000410450930172862\n",
      "Aproximación: (-0.107845111883149, -0.107845111883149), distancia entre término: 0.000415206351846290\n",
      "Aproximación: (-0.108265166154088, -0.108265166154088), distancia entre término: 0.000420054270939135\n",
      "Aproximación: (-0.108690163379260, -0.108690163379260), distancia entre término: 0.000424997225172016\n",
      "Aproximación: (-0.109120201221726, -0.109120201221726), distancia entre término: 0.000430037842465245\n",
      "Aproximación: (-0.109555380066613, -0.109555380066613), distancia entre término: 0.000435178844887654\n",
      "Aproximación: (-0.109995803119425, -0.109995803119425), distancia entre término: 0.000440423052811278\n",
      "Aproximación: (-0.110441576508709, -0.110441576508709), distancia entre término: 0.000445773389284490\n",
      "Aproximación: (-0.110892809393346, -0.110892809393346), distancia entre término: 0.000451232884636790\n",
      "Aproximación: (-0.111349614074676, -0.111349614074676), distancia entre término: 0.000456804681329720\n",
      "Aproximación: (-0.111812106113745, -0.111812106113745), distancia entre término: 0.000462492039069035\n",
      "Aproximación: (-0.112280404453939, -0.112280404453939), distancia entre término: 0.000468298340194545\n",
      "Aproximación: (-0.112754631549304, -0.112754631549304), distancia entre término: 0.000474227095365307\n",
      "Aproximación: (-0.113234913498863, -0.113234913498863), distancia entre término: 0.000480281949558736\n",
      "Aproximación: (-0.113721380187267, -0.113721380187267), distancia entre término: 0.000486466688404047\n",
      "Aproximación: (-0.114214165432139, -0.114214165432139), distancia entre término: 0.000492785244871605\n",
      "Aproximación: (-0.114713407138480, -0.114713407138480), distancia entre término: 0.000499241706341413\n",
      "Aproximación: (-0.115219247460556, -0.115219247460556), distancia entre término: 0.000505840322075873\n",
      "Aproximación: (-0.115731832971680, -0.115731832971680), distancia entre término: 0.000512585511123556\n",
      "Aproximación: (-0.116251314842363, -0.116251314842363), distancia entre término: 0.000519481870683139\n",
      "Aproximación: (-0.116777849027321, -0.116777849027321), distancia entre término: 0.000526534184958502\n",
      "Aproximación: (-0.117311596461860, -0.117311596461860), distancia entre término: 0.000533747434538615\n",
      "Aproximación: (-0.117852723268198, -0.117852723268198), distancia entre término: 0.000541126806338471\n",
      "Aproximación: (-0.118401400972339, -0.118401400972339), distancia entre término: 0.000548677704140174\n",
      "Aproximación: (-0.118957806732115, -0.118957806732115), distancia entre término: 0.000556405759776155\n",
      "Aproximación: (-0.119522123577115, -0.119522123577115), distancia entre término: 0.000564316845000412\n",
      "Aproximación: (-0.120094540661212, -0.120094540661212), distancia entre término: 0.000572417084096707\n",
      "Aproximación: (-0.120675253528489, -0.120675253528489), distancia entre término: 0.000580712867277358\n"
     ]
    }
   ],
   "source": [
    "import sys\n",
    "\n",
    "g_1(x,y) = (arctan(y), arctan(x))\n",
    "g_2(x,y) = (tan(x), tan(y))\n",
    "\n",
    "print(\"Todos las aproximaciones del primer método\")\n",
    "gen = first_variant(functional_iteration, g_1, (0.5,.5), 10e-6)\n",
    "\n",
    "#for fix_point, error in gen:\n",
    "#    print(\"Aproximación: {}, distancia entre términos: {}\".format(fix_point, error))\n",
    "    \n",
    "\n",
    "print(\"Algunas iteraciones del segundo método\")\n",
    "gen = first_variant(functional_iteration, g_2, (1,1), 10e-8)\n",
    "\n",
    "for fix_point, error in it.islice(gen,1,90):\n",
    "    print(\"Aproximación: {}, distancia entre término: {}\".format(fix_point, error))"
   ]
  },
  {
   "cell_type": "code",
   "execution_count": 9,
   "metadata": {
    "collapsed": false,
    "deletable": true,
    "editable": true,
    "scrolled": true
   },
   "outputs": [
    {
     "name": "stdout",
     "output_type": "stream",
     "text": [
      "Todos las aproximaciones de la primera variante\n",
      "Aproximación: (-6.00000000000000, 0.000000000000000), distancia entre términos: 6.50000000000000\n",
      "Aproximación: (-6.00000000000000, 0.000000000000000), distancia entre términos: 0.000000000000000\n",
      "Todos las aproximaciones de la tercera variante\n",
      "Iterations: 95\n",
      "Aproximación: (5, 5), error: sqrt(26)\n",
      "Aproximación: (5.50000000000000, 2.50000000000000), error: 2.54950975679639\n",
      "Aproximación: (5.75000000000000, 1.25000000000000), error: 1.27475487839820\n",
      "Aproximación: (5.87500000000000, 0.625000000000000), error: 0.637377439199098\n",
      "Aproximación: (5.93750000000000, 0.312500000000000), error: 0.318688719599549\n",
      "Aproximación: (5.96875000000000, 0.156250000000000), error: 0.159344359799775\n",
      "Aproximación: (5.98437500000000, 0.0781250000000000), error: 0.0796721798998873\n",
      "Aproximación: (5.99218750000000, 0.0390625000000000), error: 0.0398360899499436\n",
      "Aproximación: (5.99609375000000, 0.0195312500000000), error: 0.0199180449749718\n",
      "Aproximación: (5.99804687500000, 0.00976562500000000), error: 0.00995902248748591\n",
      "Aproximación: (5.99902343750000, 0.00488281250000000), error: 0.00497951124374295\n",
      "Aproximación: (5.99951171875000, 0.00244140625000000), error: 0.00248975562187148\n",
      "Aproximación: (5.99975585937500, 0.00122070312500000), error: 0.00124487781093574\n",
      "Aproximación: (5.99987792968750, 0.000610351562500000), error: 0.000622438905467869\n",
      "Aproximación: (5.99993896484375, 0.000305175781250000), error: 0.000311219452733935\n",
      "Aproximación: (5.99996948242188, 0.000152587890625000), error: 0.000155609726366967\n",
      "Aproximación: (5.99998474121094, 0.0000762939453125000), error: 0.0000778048631834837\n",
      "Aproximación: (5.99999237060547, 0.0000381469726562500), error: 0.0000389024315917418\n",
      "Aproximación: (5.99999618530273, 0.0000190734863281250), error: 0.0000194512157958709\n",
      "Aproximación: (5.99999809265137, 9.53674316406250e-6), error: 9.72560789793546e-6\n",
      "Aproximación: (5.99999904632568, 4.76837158203125e-6), error: 4.86280394896773e-6\n",
      "Aproximación: (5.99999952316284, 2.38418579101562e-6), error: 2.43140197448386e-6\n",
      "Aproximación: (5.99999976158142, 1.19209289550781e-6), error: 1.21570098724193e-6\n",
      "Aproximación: (5.99999988079071, 5.96046447753906e-7), error: 6.07850493620966e-7\n",
      "Aproximación: (5.99999994039536, 2.98023223876953e-7), error: 3.03925246810483e-7\n",
      "Aproximación: (5.99999997019768, 1.49011611938477e-7), error: 1.51962623405242e-7\n",
      "Aproximación: (5.99999998509884, 7.45058059692383e-8), error: 7.59813117026208e-8\n",
      "Aproximación: (5.99999999254942, 3.72529029846191e-8), error: 3.79906558513104e-8\n",
      "Aproximación: (5.99999999627471, 1.86264514923096e-8), error: 1.89953279256552e-8\n",
      "Aproximación: (5.99999999813735, 9.31322574615479e-9), error: 9.49766396282759e-9\n",
      "Aproximación: (5.99999999906868, 4.65661287307739e-9), error: 4.74883198141380e-9\n",
      "Aproximación: (5.99999999953434, 2.32830643653870e-9), error: 2.37441599070690e-9\n",
      "Aproximación: (5.99999999976717, 1.16415321826935e-9), error: 1.18720799535345e-9\n",
      "Aproximación: (5.99999999988358, 5.82076609134674e-10), error: 5.93603997676725e-10\n",
      "Aproximación: (5.99999999994179, 2.91038304567337e-10), error: 2.96801998838362e-10\n",
      "Aproximación: (5.99999999997090, 1.45519152283669e-10), error: 1.48400999419181e-10\n",
      "Aproximación: (5.99999999998545, 7.27595761418343e-11), error: 7.42004997095906e-11\n",
      "Aproximación: (5.99999999999272, 3.63797880709171e-11), error: 3.71002498547953e-11\n",
      "Aproximación: (5.99999999999636, 1.81898940354586e-11), error: 1.85501249273976e-11\n",
      "Aproximación: (5.99999999999818, 9.09494701772928e-12), error: 9.27506246369882e-12\n",
      "Aproximación: (5.99999999999909, 4.54747350886464e-12), error: 4.63753123184941e-12\n",
      "Aproximación: (5.99999999999955, 2.27373675443232e-12), error: 2.31876561592471e-12\n",
      "Aproximación: (5.99999999999977, 1.13686837721616e-12), error: 1.15938280796235e-12\n",
      "Aproximación: (5.99999999999989, 5.68434188608080e-13), error: 5.79691403981176e-13\n",
      "Aproximación: (5.99999999999994, 2.84217094304040e-13), error: 2.89845701990588e-13\n",
      "Aproximación: (5.99999999999997, 1.42108547152020e-13), error: 1.44922850995294e-13\n",
      "Aproximación: (5.99999999999999, 7.10542735760100e-14), error: 7.24614254976470e-14\n",
      "Aproximación: (5.99999999999999, 3.55271367880050e-14), error: 3.62307127488235e-14\n",
      "Aproximación: (6.00000000000000, 1.77635683940025e-14), error: 1.81153563744118e-14\n",
      "Aproximación: (6.00000000000000, 8.88178419700125e-15), error: 9.05767818720588e-15\n",
      "Aproximación: (6.00000000000000, 4.44089209850063e-15), error: 4.52883909360294e-15\n",
      "Aproximación: (6.00000000000000, 2.22044604925031e-15), error: 2.22044604925031e-15\n",
      "Aproximación: (6.00000000000000, 1.11022302462516e-15), error: 1.11022302462516e-15\n",
      "Aproximación: (6.00000000000000, 5.55111512312578e-16), error: 5.55111512312578e-16\n",
      "Aproximación: (6.00000000000000, 2.77555756156289e-16), error: 2.77555756156289e-16\n",
      "Aproximación: (6.00000000000000, 1.38777878078145e-16), error: 1.38777878078145e-16\n",
      "Aproximación: (6.00000000000000, 6.93889390390723e-17), error: 6.93889390390723e-17\n",
      "Aproximación: (6.00000000000000, 3.46944695195361e-17), error: 3.46944695195361e-17\n",
      "Aproximación: (6.00000000000000, 1.73472347597681e-17), error: 1.73472347597681e-17\n",
      "Aproximación: (6.00000000000000, 8.67361737988404e-18), error: 8.67361737988404e-18\n",
      "Aproximación: (6.00000000000000, 4.33680868994202e-18), error: 4.33680868994202e-18\n",
      "Aproximación: (6.00000000000000, 2.16840434497101e-18), error: 2.16840434497101e-18\n",
      "Aproximación: (6.00000000000000, 1.08420217248550e-18), error: 1.08420217248550e-18\n",
      "Aproximación: (6.00000000000000, 5.42101086242752e-19), error: 5.42101086242752e-19\n",
      "Aproximación: (6.00000000000000, 2.71050543121376e-19), error: 2.71050543121376e-19\n",
      "Aproximación: (6.00000000000000, 1.35525271560688e-19), error: 1.35525271560688e-19\n",
      "Aproximación: (6.00000000000000, 6.77626357803440e-20), error: 6.77626357803440e-20\n",
      "Aproximación: (6.00000000000000, 3.38813178901720e-20), error: 3.38813178901720e-20\n",
      "Aproximación: (6.00000000000000, 1.69406589450860e-20), error: 1.69406589450860e-20\n",
      "Aproximación: (6.00000000000000, 8.47032947254300e-21), error: 8.47032947254300e-21\n",
      "Aproximación: (6.00000000000000, 4.23516473627150e-21), error: 4.23516473627150e-21\n",
      "Aproximación: (6.00000000000000, 2.11758236813575e-21), error: 2.11758236813575e-21\n",
      "Aproximación: (6.00000000000000, 1.05879118406788e-21), error: 1.05879118406788e-21\n",
      "Aproximación: (6.00000000000000, 5.29395592033938e-22), error: 5.29395592033938e-22\n",
      "Aproximación: (6.00000000000000, 2.64697796016969e-22), error: 2.64697796016969e-22\n",
      "Aproximación: (6.00000000000000, 1.32348898008484e-22), error: 1.32348898008484e-22\n",
      "Aproximación: (6.00000000000000, 6.61744490042422e-23), error: 6.61744490042422e-23\n",
      "Aproximación: (6.00000000000000, 3.30872245021211e-23), error: 3.30872245021211e-23\n",
      "Aproximación: (6.00000000000000, 1.65436122510606e-23), error: 1.65436122510606e-23\n",
      "Aproximación: (6.00000000000000, 8.27180612553028e-24), error: 8.27180612553028e-24\n",
      "Aproximación: (6.00000000000000, 4.13590306276514e-24), error: 4.13590306276514e-24\n",
      "Aproximación: (6.00000000000000, 2.06795153138257e-24), error: 2.06795153138257e-24\n",
      "Aproximación: (6.00000000000000, 1.03397576569128e-24), error: 1.03397576569128e-24\n",
      "Aproximación: (6.00000000000000, 5.16987882845642e-25), error: 5.16987882845642e-25\n",
      "Aproximación: (6.00000000000000, 2.58493941422821e-25), error: 2.58493941422821e-25\n",
      "Aproximación: (6.00000000000000, 1.29246970711411e-25), error: 1.29246970711411e-25\n",
      "Aproximación: (6.00000000000000, 6.46234853557053e-26), error: 6.46234853557053e-26\n",
      "Aproximación: (6.00000000000000, 3.23117426778526e-26), error: 3.23117426778526e-26\n",
      "Aproximación: (6.00000000000000, 1.61558713389263e-26), error: 1.61558713389263e-26\n",
      "Aproximación: (6.00000000000000, 8.07793566946316e-27), error: 8.07793566946316e-27\n",
      "Aproximación: (6.00000000000000, 4.03896783473158e-27), error: 4.03896783473158e-27\n",
      "Aproximación: (6.00000000000000, 2.01948391736579e-27), error: 2.01948391736579e-27\n",
      "Aproximación: (6.00000000000000, 1.00974195868290e-27), error: 1.00974195868290e-27\n",
      "Aproximación: (6.00000000000000, 5.04870979341448e-28), error: 5.04870979341448e-28\n",
      "Aproximación: (6.00000000000000, 2.52435489670724e-28), error: 2.52435489670724e-28\n",
      "\n",
      "Última aproximación de la segunda variante\n",
      "(5.99999999906868, 4.65661287307739e-9)\n"
     ]
    }
   ],
   "source": [
    "contractive2(x,y) = (0.5*x+3, 0.5*y)\n",
    "\n",
    "print(\"Todos las aproximaciones de la primera variante\")\n",
    "gen = first_variant(newton, contractive2, (0.5,.5), 0.0000005)\n",
    "\n",
    "fix_point, error = None, None\n",
    "for fix_point,error in gen:\n",
    "    print(\"Aproximación: {}, distancia entre términos: {}\".format(fix_point, error))\n",
    "    \n",
    "print(\"Todos las aproximaciones de la tercera variante\")\n",
    "gen = third_variant(contractive2, (5,5), 0.8, 10e-9)\n",
    "\n",
    "fix_point = None, None\n",
    "for fix_point in gen:\n",
    "    print(\"Aproximación: {}, error: {}\".format(fix_point, abs(vector((6,0))-fix_point)))\n",
    "\n",
    "print(\"\")\n",
    "print(\"Última aproximación de la segunda variante\")\n",
    "print_last(second_variant(functional_iteration, contractive2, (5,5), fix_point, 10e-9))"
   ]
  },
  {
   "cell_type": "markdown",
   "metadata": {
    "deletable": true,
    "editable": true
   },
   "source": [
    "Empecemos con el primer apartado del ejercicio 21 en el que compararemos las ejecuciones y resultados del ejercicio 18, en este se nos pedía resolverlo con el método de convergencia funcional. Ahora nos piden resolverlo con el método de Newton y que comparemos la eficiencia y resultados de ambos métodos."
   ]
  },
  {
   "cell_type": "code",
   "execution_count": 10,
   "metadata": {
    "collapsed": false,
    "deletable": true,
    "editable": true
   },
   "outputs": [
    {
     "name": "stdout",
     "output_type": "stream",
     "text": [
      "Todos las aproximaciones de la primera variante con el método de Newton\n",
      "1: \n",
      "\tAproximación: (0.500229487989596, -1.06536473740976, -0.526888877418178), \n",
      "\tpunto: (0.154139957224511, 0.181926670418692, 0.638110088389407) \n",
      "\tdistancia entre términos: 1.16536473740976\n",
      "2: \n",
      "\tAproximación: (0.443912958344123, -1.06409966530846, -0.553628932088287), \n",
      "\tpunto: (0.000306898293946922, 0.00335407050575973, 0.00318374637341279) \n",
      "\tdistancia entre términos: 0.0563165296454727\n",
      "3: \n",
      "\tAproximación: (0.443785641659663, -1.06406119576418, -0.553775886140014), \n",
      "\tpunto: (4.44298420276823e-9, 2.18872009405402e-8, 2.65153374812144e-8) \n",
      "\tdistancia entre términos: 0.000146954051726822\n",
      "4: \n",
      "\tAproximación: (0.443785639971961, -1.06406119552478, -0.553775887313279), \n",
      "\tpunto: (0.000000000000000, -6.30051566474776e-15, 1.77635683940025e-15) \n",
      "\tdistancia entre términos: 1.11022302462516e-16\n",
      "\n",
      "\n",
      "Todos las aproximaciones de la primera variante con el método de Iteración Funcional\n",
      "1: \n",
      "\tAproximación: (0.499983333472222, 0.00944114960371335, -0.523101267285757), \n",
      "\tpunto: (0.499995934919313, 0.0000255677467667359, -0.523363310908805) \n",
      "\tdistancia entre términos: 0.423101267285757\n",
      "\n",
      "2: \n",
      "\tAproximación: (0.499995934919313, 0.0000255677467667359, -0.523363310908805), \n",
      "\tpunto: (0.499999999970157, 0.0000123367203633540, -0.523598136413912) \n",
      "\tdistancia entre términos: 0.00941558185694662\n",
      "\n",
      "3: \n",
      "\tAproximación: (0.499999999970157, 0.0000123367203633540, -0.523598136413912), \n",
      "\tpunto: (0.499999999993046, 3.41679062543232e-8, -0.523598467181241) \n",
      "\tdistancia entre términos: 0.000234825505107006\n",
      "\n",
      "4: \n",
      "\tAproximación: (0.499999999993046, 3.41679062543232e-8, -0.523598467181241), \n",
      "\tpunto: (0.500000000000000, 1.64870403995820e-8, -0.523598774744101) \n",
      "\tdistancia entre términos: 0.0000123025524570997\n",
      "\n",
      "5: \n",
      "\tAproximación: (0.500000000000000, 4.56639864809816e-11, -0.523598775186123), \n",
      "\tpunto: (0.500000000000000, 2.20342494250403e-11, -0.523598775597157) \n",
      "\tdistancia entre términos: 1.64413764131011e-8\n",
      "\n"
     ]
    }
   ],
   "source": [
    "ejercicio18IterSaez(x,y,z)=((cos(y*z)+0.5)/3,sqrt(x^2-0.81+1.06-16.2*y+sin(z))/9,(-exp(-x*y)-(10*3.14159-3)/3)/20)\n",
    "ejercicio18IterSofia(x,y,z)=((cos(y*z)+1/2)/3, sqrt((sin(z)+x^2+1.06)/81)-0.1, -(exp(-x*y)+(10*pi.n()-3)/3)/20)\n",
    "ejercicio18New(x,y,z)=(-cos(y*z)+3*x-0.5,sin(z)+x^2-81*(y+1.06), e^(-x*y)+20*z+(10*pi.n()-3)/3)\n",
    "print(\"Todos las aproximaciones de la primera variante con el método de Newton\")\n",
    "Primera = first_variant(newton, ejercicio18New, (0.1,0.1,-0.1), 10^(-5))\n",
    "\n",
    "fix_point, error = None, None\n",
    "for indice,(fix_point,error) in enumerate(Primera):\n",
    "    print(\"{}: \\n\\tAproximación: {}, \\n\\tpunto: {} \\n\\tdistancia entre términos: {}\".format(indice+1,fix_point, ejercicio18New(*fix_point), error))\n",
    "    \n",
    "\n",
    "    \n",
    "print(\"\\n\\nTodos las aproximaciones de la primera variante con el método de Iteración Funcional\")\n",
    "Primera = first_variant(functional_iteration, ejercicio18IterSofia, (0.1,0.1,-0.1), 10^(-5))\n",
    "\n",
    "fix_point, error = None, None\n",
    "for indice,(fix_point,error) in enumerate(Primera):\n",
    "    print(\"{}: \\n\\tAproximación: {}, \\n\\tpunto: {} \\n\\tdistancia entre términos: {}\\n\".format(indice+1, fix_point, ejercicio18IterSofia(*fix_point), error))\n",
    "    "
   ]
  },
  {
   "cell_type": "markdown",
   "metadata": {
    "deletable": true,
    "editable": true
   },
   "source": [
    "Como podemos ver, con el método de Newton hemos necesitado una iteración menos para alcanzar la tolerancia deseada dentro del contexto de la distancia entre dos términos. No sólo eso, sino que, con una iteración menos hemos conseguido que la distancia entre términos sea 10^8 veces menor. \n",
    "\n",
    "Por ello podemos asegurar que, en este caso particular, el método de Newton converge más rápidamente.\n",
    "\n",
    "A continuación haremos la misma prueba, pero esta vez con el ejercicio 20."
   ]
  },
  {
   "cell_type": "code",
   "execution_count": 12,
   "metadata": {
    "collapsed": false,
    "deletable": true,
    "editable": true
   },
   "outputs": [
    {
     "name": "stdout",
     "output_type": "stream",
     "text": [
      "\n",
      "\n",
      "Todos las aproximaciones de la primera variante con el método de Iteración Funcional\n",
      "1: \n",
      "\tAproximación: (0.111803398874989, 0.304079095241292), \n",
      "\tpunto: (0.0608158190482584*sqrt(5), 0.266423427535425) \n",
      "\tdistancia entre términos: 0.138196601125011\n",
      "\n",
      "2: \n",
      "\tAproximación: (0.135988305499232, 0.266423427535425), \n",
      "\tpunto: (0.0532846855070850*sqrt(5), 0.275072068196639) \n",
      "\tdistancia entre términos: 0.0376556677058668\n",
      "\n",
      "3: \n",
      "\tAproximación: (0.119148178953540, 0.275072068196639), \n",
      "\tpunto: (0.0550144136393278*sqrt(5), 0.270318023474851) \n",
      "\tdistancia entre términos: 0.0168401265456923\n",
      "\n",
      "4: \n",
      "\tAproximación: (0.123015968639829, 0.270318023474851), \n",
      "\tpunto: (0.0540636046949702*sqrt(5), 0.271597989694383) \n",
      "\tdistancia entre términos: 0.00475404472178792\n",
      "\n",
      "5: \n",
      "\tAproximación: (0.120889895206630, 0.271597989694383), \n",
      "\tpunto: (0.0543195979388767*sqrt(5), 0.270984771837357) \n",
      "\tdistancia entre términos: 0.00212607343319837\n",
      "\n",
      "6: \n",
      "\tAproximación: (0.121462313501786, 0.270984771837357), \n",
      "\tpunto: (0.0541969543674714*sqrt(5), 0.271167908932786) \n",
      "\tdistancia entre términos: 0.000613217857026338\n",
      "\n",
      "7: \n",
      "\tAproximación: (0.121188074139120, 0.271167908932786), \n",
      "\tpunto: (0.0542335817865572*sqrt(5), 0.271087593475183) \n",
      "\tdistancia entre términos: 0.000274239362665532\n",
      "\n",
      "8: \n",
      "\tAproximación: (0.121269975538036, 0.271087593475183), \n",
      "\tpunto: (0.0542175186950366*sqrt(5), 0.271113296035865) \n",
      "\tdistancia entre términos: 0.0000819013989161732\n",
      "\n",
      "9: \n",
      "\tAproximación: (0.121234057373468, 0.271113296035865), \n",
      "\tpunto: (0.0542226592071730*sqrt(5), 0.271102661688650) \n",
      "\tdistancia entre términos: 0.0000359181645687712\n",
      "\n",
      "10: \n",
      "\tAproximación: (0.121245551908044, 0.271102661688650), \n",
      "\tpunto: (0.0542205323377300*sqrt(5), 0.271106226195433) \n",
      "\tdistancia entre términos: 0.0000114945345761064\n",
      "\n",
      "11: \n",
      "\tAproximación: (0.121242390179284, 0.271104807327441), \n",
      "\tpunto: (0.0542209614654882*sqrt(5), 0.271105297918000) \n",
      "\tdistancia entre términos: 1.59409589452209e-6\n",
      "\n"
     ]
    }
   ],
   "source": [
    "ejercicio20Iter(x,y)=(y/sqrt(5),(sin(x)+cos(y))/4)\n",
    "ejercicio20New(x,y)=(5*x^2-y^2,y-(sin(x)+cos(y))/4)\n",
    "\n",
    "print(\"\\n\\nTodos las aproximaciones de la primera variante con el método de Iteración Funcional\")\n",
    "Segunda = first_variant(functional_iteration, ejercicio20Iter, (1/4,1/4), 10^(-5))\n",
    "\n",
    "fix_point, error = None, None\n",
    "for indice,(fix_point,error) in enumerate(Segunda):\n",
    "    print(\"{}: \\n\\tAproximación: {}, \\n\\tpunto: {} \\n\\tdistancia entre términos: {}\\n\".format(indice+1, fix_point, ejercicio20Iter(*fix_point), error))\n"
   ]
  },
  {
   "cell_type": "code",
   "execution_count": null,
   "metadata": {
    "collapsed": true,
    "deletable": true,
    "editable": true
   },
   "outputs": [],
   "source": [
    "print(\"Todos las aproximaciones de la primera variante con el método de Newton\")\n",
    "Segunda = first_variant(newton, ejercicio20New, (1/4,1/4), 10^(-5))\n",
    "\n",
    "fix_point, error = None, None\n",
    "for indice,(fix_point,error) in enumerate(Segunda):\n",
    "    print(\"{}: \\n\\tAproximación: {}, \\n\\tpunto: {} \\n\\tdistancia entre términos: {}\".format(indice+1,fix_point, ejercicio20New(*fix_point), error))\n",
    "    \n"
   ]
  },
  {
   "cell_type": "markdown",
   "metadata": {
    "deletable": true,
    "editable": true
   },
   "source": [
    "Como podemos ver, en este caso el coste computacional es demasiado grande en el caso del método de Newton. Sin embargo, en el método de iteración funcional el coste computacional es mínimo en comparación.\n",
    "\n",
    "Tras hacer ambas comparaciones con ambos ejercicios, vemos que, conforme están actualmente diseñados estos algoritmos, el algoritmo de iteración funcional es mucho más eficiente."
   ]
  },
  {
   "cell_type": "code",
   "execution_count": null,
   "metadata": {
    "collapsed": true,
    "deletable": true,
    "editable": true
   },
   "outputs": [],
   "source": []
  }
 ],
 "metadata": {
  "kernelspec": {
   "display_name": "SageMath 8.1",
   "language": "",
   "name": "sagemath"
  },
  "language_info": {
   "codemirror_mode": {
    "name": "ipython",
    "version": 2
   },
   "file_extension": ".py",
   "mimetype": "text/x-python",
   "name": "python",
   "nbconvert_exporter": "python",
   "pygments_lexer": "ipython2",
   "version": "2.7.14"
  }
 },
 "nbformat": 4,
 "nbformat_minor": 2
}
